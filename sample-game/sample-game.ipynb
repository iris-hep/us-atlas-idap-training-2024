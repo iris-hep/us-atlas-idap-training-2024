{
 "cells": [
  {
   "cell_type": "code",
   "execution_count": null,
   "id": "983342d1-37dc-42f5-8d4b-1f3a85941a00",
   "metadata": {
    "tags": []
   },
   "outputs": [],
   "source": [
    "import warnings\n",
    "warnings.filterwarnings(action=\"ignore\", module=\"coffea.*\")\n",
    "\n",
    "import awkward as ak\n",
    "import coffea\n",
    "from coffea.nanoevents import NanoEventsFactory, PHYSLITESchema\n",
    "import dask\n",
    "from dask.distributed import Client\n",
    "import hist.dask\n",
    "import matplotlib.pyplot as plt\n",
    "import mplhep\n",
    "import numpy as np\n",
    "import uproot\n",
    "\n",
    "mplhep.style.use(\"ATLAS\")\n",
    "client = Client(\"tls://localhost:8786\")"
   ]
  },
  {
   "cell_type": "markdown",
   "id": "27e1ce75-023c-4235-9bac-605e22fa2fa2",
   "metadata": {},
   "source": [
    "Just like in the PHYSLITE demo earlier today, we will only load a few branches, this speeds things up a bit. Add more branches here if you need them!"
   ]
  },
  {
   "cell_type": "code",
   "execution_count": null,
   "id": "d2641f29-3fb1-4217-ad44-5f4ea0979024",
   "metadata": {
    "tags": []
   },
   "outputs": [],
   "source": [
    "def filter_name(name):\n",
    "    return name in [\n",
    "        \"EventInfoAuxDyn.mcEventWeights\",\n",
    "        \n",
    "        \"AnalysisElectronsAuxDyn.pt\",\n",
    "        \"AnalysisElectronsAuxDyn.eta\",\n",
    "        \"AnalysisElectronsAuxDyn.phi\",\n",
    "        \"AnalysisElectronsAuxDyn.m\",\n",
    "        \n",
    "        \"AnalysisMuonsAuxDyn.pt\",\n",
    "        \"AnalysisMuonsAuxDyn.eta\",\n",
    "        \"AnalysisMuonsAuxDyn.phi\",\n",
    "\n",
    "        \"AnalysisJetsAuxDyn.pt\",\n",
    "        \"AnalysisJetsAuxDyn.eta\",\n",
    "        \"AnalysisJetsAuxDyn.phi\",\n",
    "        \"AnalysisJetsAuxDyn.m\",\n",
    "        \n",
    "        \"BTagging_AntiKt4EMPFlowAuxDyn.DL1dv01_pb\",\n",
    "        \"BTagging_AntiKt4EMPFlowAuxDyn.DL1dv01_pc\",\n",
    "        \"BTagging_AntiKt4EMPFlowAuxDyn.DL1dv01_pu\",\n",
    "    ]\n"
   ]
  },
  {
   "cell_type": "markdown",
   "id": "9feaa307-567d-47a6-a6fc-1df922361dc0",
   "metadata": {},
   "source": [
    "Load the samples into `NanoEventsFactory` to analyze their content."
   ]
  },
  {
   "cell_type": "code",
   "execution_count": null,
   "id": "b2e85998-65c0-4ddc-a9e8-cb7df3e62c3e",
   "metadata": {
    "tags": []
   },
   "outputs": [],
   "source": [
    "# using ATLAS Open Data\n",
    "samples = {\n",
    "    \"sample 1\": \"mc20_13TeV/DAOD_PHYSLITE.37621317._000001.pool.root.1\",\n",
    "    \"sample 2\": \"mc20_13TeV/DAOD_PHYSLITE.37620644._000012.pool.root.1\",\n",
    "    \"sample 3\": \"mc20_13TeV/DAOD_PHYSLITE.37865929._000022.pool.root.1\",\n",
    "    \"sample 4\": \"mc20_13TeV/DAOD_PHYSLITE.37621204._000012.pool.root.1\",\n",
    "    \"sample 5\": \"mc20_13TeV/DAOD_PHYSLITE.38191712._000013.pool.root.1\",\n",
    "    \"sample 6\": \"mc20_13TeV/DAOD_PHYSLITE.38191575._000015.pool.root.1\"\n",
    "}\n",
    "prepend_path = \"root://xcache.af.uchicago.edu:1094//root://eospublic.cern.ch//eos/opendata/atlas/rucio/\"\n",
    "\n",
    "events_list = [\n",
    "    NanoEventsFactory.from_root(\n",
    "        {prepend_path + samples[sample]: \"CollectionTree\"},\n",
    "        delayed=True,\n",
    "        schemaclass=PHYSLITESchema,\n",
    "        uproot_options={\"filter_name\": filter_name}\n",
    "    ).events()\n",
    "    for sample in samples.keys()\n",
    "]\n",
    "\n",
    "# as introduced by Jim earlier\n",
    "EVENT = 0\n",
    "PARTICLE = 1"
   ]
  },
  {
   "cell_type": "markdown",
   "id": "5bda6fbe-d62e-48b8-a594-4820de7609c9",
   "metadata": {},
   "source": [
    "Your task: map all of these samples to the physics process they correspond to! They contain to the following processes:\n",
    "\n",
    "- `HWW`: gluon fusion $H\\rightarrow WW^* \\rightarrow \\ell \\nu \\ell \\nu$\n",
    "- `HZZ`: gluon fusion $H\\rightarrow ZZ^* \\rightarrow \\ell \\ell \\ell \\ell$\n",
    "- `tchan`: single top production in $t$-channel\n",
    "- `ttbar`: $t\\bar{t}$ production with at least one light lepton in the final state\n",
    "- `tZq`: associated production of single top quark and $Z$ boson\n",
    "- `Zee`: $Z\\rightarrow ee$ Drell–Yan production,\n",
    "\n",
    "You should solve this using kinematic information in the events. Your solution will be a map of samples (`sample 1` etc.) to these processes (e.g. `Zee`).\n",
    "\n",
    "To get us started, let's look at the distribution of b-tagged jets in the samples. We can use DL1d and calculate the discriminant ourselves from the information in the PHYSLITE files. Relevant information is at https://ftag.docs.cern.ch/recommendations/algs/r22-preliminary/#working-point-definition-for-dl1dv01 with the discriminant defined at https://ftag.docs.cern.ch/recommendations/algs/2019-recommendations/#algorithm-structure."
   ]
  },
  {
   "cell_type": "code",
   "execution_count": null,
   "id": "7478582e-63c4-4df8-aaee-4a25b5593e81",
   "metadata": {
    "tags": []
   },
   "outputs": [],
   "source": [
    "h = hist.dask.Hist.new.Regular(5, 0, 5, name=\"nBtags\", label=\"number of b-tags@70%\").\\\n",
    "                       StrCat([], growth=True, name=\"samplename\").Weight()\n",
    "\n",
    "for events, name in zip(events_list, samples.keys()):\n",
    "    jets = events.Jets\n",
    "    jets[\"DL1dv01_pb\"] = events.BTagging_AntiKt4EMPFlow.DL1dv01_pb\n",
    "    jets[\"DL1dv01_pc\"] = events.BTagging_AntiKt4EMPFlow.DL1dv01_pc\n",
    "    jets[\"DL1dv01_pu\"] = events.BTagging_AntiKt4EMPFlow.DL1dv01_pu\n",
    "\n",
    "    jets = jets[jets.pt > 25_000]  # 25 GeV pT cut\n",
    "\n",
    "    f_c = 0.018\n",
    "    BTAG_CUT = 3.493  # 70% efficiency cut\n",
    "    dl1d = np.log(jets[\"DL1dv01_pb\"] / (f_c * jets[\"DL1dv01_pc\"] + (1-f_c) * jets[\"DL1dv01_pu\"]))\n",
    "    nbtags = ak.sum(dl1d > BTAG_CUT, axis=PARTICLE)\n",
    "\n",
    "    h.fill(nBtags=nbtags, samplename=name, weight=ak.num(nbtags, axis=EVENT)**(-1.0))\n",
    "\n",
    "h_computed = h.compute()\n",
    "\n",
    "fig, ax = plt.subplots()\n",
    "h_computed.plot(ax=ax, linewidth=2)\n",
    "ax.legend();"
   ]
  }
 ],
 "metadata": {
  "kernelspec": {
   "display_name": "Python 3 (ipykernel)",
   "language": "python",
   "name": "python3"
  },
  "language_info": {
   "codemirror_mode": {
    "name": "ipython",
    "version": 3
   },
   "file_extension": ".py",
   "mimetype": "text/x-python",
   "name": "python",
   "nbconvert_exporter": "python",
   "pygments_lexer": "ipython3",
   "version": "3.10.14"
  }
 },
 "nbformat": 4,
 "nbformat_minor": 5
}
