{
 "cells": [
  {
   "cell_type": "markdown",
   "metadata": {
    "tags": []
   },
   "source": [
    "# Reading PHYSLITE files using the `PHYSLITESchema`"
   ]
  },
  {
   "cell_type": "markdown",
   "metadata": {},
   "source": [
    "`NanoEvents` is a `coffea` utility to wrap NTuple structures (such as the ATLAS PHYSLITE format) into a single awkward array with appropriate object methods (such as Lorentz vector methods), cross references, and nested objects. All are by default accessed in delayed* mode from the input ROOT TTree via `uproot`.  \n",
    "\n",
    "The interpretation of the TTree data is configurable via schema objects, which are community-supplied for various input file types. Relevant schemas for this training:\n",
    "1. `BaseSchema`, which provides a simple representation of the input TTree, where each branch is available verbatim as `events.branch_name`. Any branches that `uproot` supports at \"full speed\" (i.e. that are fully split and either flat or single-jagged) can be read by this schema.\n",
    "2. `PHYSLITESchema`, for the ATLAS PHYSLITE derivations.\n",
    "\n",
    "The schema code, along with their specialized methods, can be found here: https://github.com/CoffeaTeam/coffea/tree/master/src/coffea/nanoevents\n",
    "\n",
    "\\* _Delayed_ access refers to only fetching the needed data from the file when you're ready to compute the needed quantities. Until then, a minimal amount of metadata is used to trace the operations to eventually be performed (frequently called \"lazy\" evaluation). Learn more at the [Distributed Analysis and Dask](https://indico.cern.ch/event/1376945/timetable/?view=standard#14-distributed-analysis-and-da) lecture.\n",
    "\n",
    "In this demo we will read the content of a PHYSLITE file using the `PHYSLITESchema`. The usage and benefits of the schema will be demonstrated."
   ]
  },
  {
   "cell_type": "code",
   "execution_count": 1,
   "metadata": {},
   "outputs": [
    {
     "name": "stdout",
     "output_type": "stream",
     "text": [
      "coffea version:  2024.5.0\n",
      "awkward version:  2.6.5\n"
     ]
    },
    {
     "name": "stderr",
     "output_type": "stream",
     "text": [
      "/usr/local/lib/python3.10/site-packages/pandas/core/computation/expressions.py:21: UserWarning: Pandas requires version '2.8.4' or newer of 'numexpr' (version '2.7.3' currently installed).\n",
      "  from pandas.core.computation.check import NUMEXPR_INSTALLED\n"
     ]
    }
   ],
   "source": [
    "import coffea\n",
    "print(\"coffea version: \", coffea.__version__)\n",
    "import awkward as ak\n",
    "print(\"awkward version: \", ak.__version__)\n",
    "from coffea.nanoevents import NanoEventsFactory, PHYSLITESchema\n",
    "import numpy as np\n",
    "import matplotlib.pyplot as plt"
   ]
  },
  {
   "cell_type": "markdown",
   "metadata": {},
   "source": [
    "Let's load a PHYSLITE file containing simulated event data describing the production the Higgs boson and its decay via a pair of Z bosons to a four lepton final state. Those data are part of the recent ATLAS open data release and can be found at DOI:[10.7483/OPENDATA.ATLAS.Z2J9.709J](http://doi.org/10.7483/OPENDATA.ATLAS.Z2J9.709J).\n",
    "\n",
    "More information about our data release at [this article](https://atlas.cern/Updates/News/Open-Data-Research) and the ATLAS open data portal: https://opendata.atlas.cern/\n",
    "\n",
    "You can download those files at your local machine or you can stream them directly. For this demo we will use the [XCache](https://slateci.io/XCache/) service of the UChicago Analysis Facility."
   ]
  },
  {
   "cell_type": "code",
   "execution_count": 2,
   "metadata": {},
   "outputs": [],
   "source": [
    "# Hgg -> 4l sample\n",
    "\n",
    "# local\n",
    "# file_path = '/Users/ekourlitis/cernbox/mc20_13TeV.345060.PowhegPythia8EvtGen_NNLOPS_nnlo_30_ggH125_ZZ4l.deriv.DAOD_PHYSLITE.e7735_s3681_r13167_p6026/mc20_13TeV/DAOD_PHYSLITE.38191712._000020.pool.root.1'\n",
    "\n",
    "# stream\n",
    "# file_path = \"root://eospublic.cern.ch//eos/opendata/atlas/rucio/mc20_13TeV/DAOD_PHYSLITE.38191712._000001.pool.root.1\"\n",
    "\n",
    "# XCache\n",
    "file_path = \"root://xcache.af.uchicago.edu:1094//root://eospublic.cern.ch//eos/opendata/atlas/rucio/mc20_13TeV/DAOD_PHYSLITE.38191712._000001.pool.root.1\""
   ]
  },
  {
   "cell_type": "markdown",
   "metadata": {},
   "source": [
    "To make the loading lighter, we will use the `filter_name` function, in order to load only the variables needed. Then we will use `coffea`'s `NanoEventsFactory.from_root` to load the file. The variables are grouped in data structures called \"containers\" and the convention to reference them is `<ContainerName>.<VariableName>`. Consider looking at the [`from_root`](https://coffeateam.github.io/coffea/api/coffea.nanoevents.NanoEventsFactory.html#coffea.nanoevents.NanoEventsFactory.from_root) class method to see all optional arguments.\n",
    "\n",
    "All the containers and variables stored in the open data PHYSLITE files are listed in: https://atlas-physlite-content-opendata.web.cern.ch/. For your reference, the equivalent internal webpage for general PHYSLITE files is: https://atlas-physlite-content.web.cern.ch/. \n",
    "\n",
    "_Some warnings will appear as we're still working with `uproot` and the `PHYSLITESchema` to correctly interpret all the variables stored in PHYSLITE._"
   ]
  },
  {
   "cell_type": "code",
   "execution_count": 3,
   "metadata": {},
   "outputs": [
    {
     "name": "stderr",
     "output_type": "stream",
     "text": [
      "/usr/local/lib/python3.10/site-packages/coffea/nanoevents/methods/physlite.py:10: FutureWarning: In version 2024.7.0 (target date: 2024-06-30 11:59:59-05:00), this will be an error.\n",
      "To raise these warnings as errors (and get stack traces to find out where they're called), run\n",
      "    import warnings\n",
      "    warnings.filterwarnings(\"error\", module=\"coffea.*\")\n",
      "after the first `import coffea` or use `@pytest.mark.filterwarnings(\"error:::coffea.*\")` in pytest.\n",
      "Issue: coffea.nanoevents.methods.vector will be removed and replaced with scikit-hep vector. Nanoevents schemas internal to coffea will be migrated. Otherwise please consider using that package!.\n",
      "  from coffea.nanoevents.methods import base, vector\n",
      "/usr/local/lib/python3.10/site-packages/coffea/util.py:234: UserWarning: Skipping xTrigDecisionAux.xAOD::AuxInfoBase as it is not interpretable by Uproot\n",
      "  warnings.warn(\n",
      "/usr/local/lib/python3.10/site-packages/coffea/util.py:234: UserWarning: Skipping METAssoc_AnalysisMETAux.xAOD::AuxContainerBase as it is not interpretable by Uproot\n",
      "  warnings.warn(\n",
      "/usr/local/lib/python3.10/site-packages/coffea/util.py:234: UserWarning: Skipping AntiKt10TruthSoftDropBeta100Zcut10JetsAux.xAOD::AuxContainerBase as it is not interpretable by Uproot\n",
      "  warnings.warn(\n",
      "/usr/local/lib/python3.10/site-packages/coffea/util.py:234: UserWarning: Skipping AntiKt10UFOCSSKJetsAux.xAOD::AuxContainerBase as it is not interpretable by Uproot\n",
      "  warnings.warn(\n",
      "/usr/local/lib/python3.10/site-packages/coffea/util.py:234: UserWarning: Skipping AntiKt4TruthDressedWZJetsAux.xAOD::AuxContainerBase as it is not interpretable by Uproot\n",
      "  warnings.warn(\n",
      "/usr/local/lib/python3.10/site-packages/coffea/util.py:234: UserWarning: Skipping EventInfoAuxDyn.hardScatterVertexLink as it is not interpretable by Uproot\n",
      "  warnings.warn(\n"
     ]
    }
   ],
   "source": [
    "# load in memory\n",
    "\n",
    "def filter_name(name):\n",
    "    '''\n",
    "    Load only the variables needed.\n",
    "    '''\n",
    "    return name in [\n",
    "        \"EventInfoAuxDyn.mcEventWeights\",\n",
    "        \n",
    "        \"AnalysisElectronsAuxDyn.pt\",\n",
    "        \"AnalysisElectronsAuxDyn.eta\",\n",
    "        \"AnalysisElectronsAuxDyn.phi\",\n",
    "        \"AnalysisElectronsAuxDyn.m\",\n",
    "        \n",
    "        \"AnalysisMuonsAuxDyn.pt\",\n",
    "        \"AnalysisMuonsAuxDyn.eta\",\n",
    "        \"AnalysisMuonsAuxDyn.phi\",\n",
    "        \"AnalysisMuonsAuxDyn.m\",\n",
    "        \n",
    "        \"AnalysisJetsAuxDyn.pt\",\n",
    "        \"AnalysisJetsAuxDyn.eta\",\n",
    "        \"AnalysisJetsAuxDyn.phi\",\n",
    "        \"AnalysisJetsAuxDyn.m\",\n",
    "        \"AnalysisJetsAuxDyn.btaggingLink\",\n",
    "        \n",
    "        \"BTagging_AntiKt4EMPFlowAuxDyn.DL1dv01_pb\",\n",
    "        \"BTagging_AntiKt4EMPFlowAuxDyn.DL1dv01_pc\",\n",
    "        \"BTagging_AntiKt4EMPFlowAuxDyn.DL1dv01_pu\",\n",
    "    ]\n",
    "\n",
    "events = NanoEventsFactory.from_root(\n",
    "    {file_path: \"CollectionTree\"}, # all the event variables are stored in the TTree called CollectionTree\n",
    "    schemaclass=PHYSLITESchema, # tell NanoEventsFactory.from_root that you read a PHYSLITE file\n",
    "    uproot_options=dict(filter_name=filter_name)\n",
    ").events()"
   ]
  },
  {
   "cell_type": "markdown",
   "metadata": {},
   "source": [
    "The `events` object is an awkward array, which at its top level is a record array* with one record for each \"collection\", where a collection is a grouping of objects of the seme type, based on the naming conventions of `PHYSLITESchema`. We try to correspond the collections in awkward arrays with the containers found in PHYSLITE.\n",
    "\n",
    "\\* _Record array_ a is a specialized type of array that allows you to store elements with mixed data types that can be accessed using attribute notation, e.g. `array.x` [[1](https://numpy.org/doc/stable/reference/generated/numpy.recarray.html)], [[2](https://awkward-array.org/doc/main/reference/generated/ak.Record.html)].\n",
    "\n",
    "For example, in the file we opened there are the collections:"
   ]
  },
  {
   "cell_type": "code",
   "execution_count": 4,
   "metadata": {},
   "outputs": [
    {
     "data": {
      "text/plain": [
       "['Electrons', 'Jets', 'BTagging_AntiKt4EMPFlow', 'EventInfo', 'Muons']"
      ]
     },
     "execution_count": 4,
     "metadata": {},
     "output_type": "execute_result"
    }
   ],
   "source": [
    "events.fields"
   ]
  },
  {
   "cell_type": "markdown",
   "metadata": {},
   "source": [
    "For each collection, we can list the variables that have been loaded (TBranches). For example, let's look at the variables of the `Electrons`:"
   ]
  },
  {
   "cell_type": "code",
   "execution_count": 5,
   "metadata": {},
   "outputs": [
    {
     "data": {
      "text/plain": [
       "['pt', '_eventindex', 'eta', 'phi', 'm']"
      ]
     },
     "execution_count": 5,
     "metadata": {},
     "output_type": "execute_result"
    }
   ],
   "source": [
    "events.Electrons.fields"
   ]
  },
  {
   "cell_type": "markdown",
   "metadata": {},
   "source": [
    "The data in a PHYSLITE file are highly structured but jagged. In other words, in each event there are different number of objects in each collection, thus the awkward arrays are not rectilinear but _awkward_. We can see that if we actually request to compute the objects of the `Electrons` collection.\n",
    "\n",
    "_This is the first time we will call the `compute()` method. Actual number crunching is happening here!_"
   ]
  },
  {
   "cell_type": "code",
   "execution_count": 6,
   "metadata": {},
   "outputs": [
    {
     "data": {
      "text/html": [
       "<pre>[[Electron, ..., Electron],\n",
       " [],\n",
       " [Electron, ..., Electron],\n",
       " [Electron, ..., Electron],\n",
       " [Electron, ..., Electron],\n",
       " [Electron, ...],\n",
       " [Electron, ...],\n",
       " [{pt: 3.39e+04, _eventindex: 7, eta: -0.11, phi: -1.18, m: 0.511}],\n",
       " [Electron, Electron],\n",
       " [Electron, ..., Electron],\n",
       " ...,\n",
       " [],\n",
       " [{pt: 6.46e+04, _eventindex: 49992, eta: -2.24, phi: 3.05, m: 0.511}],\n",
       " [Electron, ...],\n",
       " [],\n",
       " [Electron, ...],\n",
       " [Electron, ...],\n",
       " [],\n",
       " [Electron, ..., Electron],\n",
       " [Electron, Electron]]\n",
       "-----------------------------------------------------------------------\n",
       "type: 50000 * var * electron</pre>"
      ],
      "text/plain": [
       "<ElectronArray [[Electron, ..., Electron], ...] type='50000 * var * electron'>"
      ]
     },
     "execution_count": 6,
     "metadata": {},
     "output_type": "execute_result"
    }
   ],
   "source": [
    "events.Electrons.compute()"
   ]
  },
  {
   "cell_type": "markdown",
   "metadata": {},
   "source": [
    "## Slicing"
   ]
  },
  {
   "cell_type": "markdown",
   "metadata": {},
   "source": [
    "One of the most common operations you will found yourself doing is event selection or array _slicing_. We can practice this by first defining an awkward (boolean) array by a logical operation. Then we can use this array as an argument to slice our events.\n",
    "\n",
    "For example, let's request events with at least two electrons:"
   ]
  },
  {
   "cell_type": "code",
   "execution_count": 7,
   "metadata": {},
   "outputs": [
    {
     "data": {
      "text/html": [
       "<pre>[{Electrons: [Electron, ...], Jets: [Particle, ...], ...},\n",
       " {Electrons: [Electron, ...], Jets: [Particle, ...], ...},\n",
       " {Electrons: [Electron, ...], Jets: [Particle, ...], ...},\n",
       " {Electrons: [Electron, ...], Jets: [Particle, ...], ...},\n",
       " {Electrons: [Electron, ...], Jets: [Particle, ...], ...},\n",
       " {Electrons: [Electron, ...], Jets: [Particle, ...], ...},\n",
       " {Electrons: [Electron, ...], Jets: [Particle, ...], ...},\n",
       " {Electrons: [Electron, ...], Jets: [Particle, ...], ...},\n",
       " {Electrons: [Electron, ...], Jets: [Particle, ...], ...},\n",
       " {Electrons: [Electron, ...], Jets: [Particle, ...], ...},\n",
       " ...,\n",
       " {Electrons: [Electron, ...], Jets: [Particle, ...], ...},\n",
       " {Electrons: [Electron, ...], Jets: [Particle, ...], ...},\n",
       " {Electrons: [Electron, ...], Jets: [Particle, ...], ...},\n",
       " {Electrons: [Electron, ...], Jets: [Particle, ...], ...},\n",
       " {Electrons: [Electron, ...], Jets: [Particle, ...], ...},\n",
       " {Electrons: [Electron, ...], Jets: [Particle, ...], ...},\n",
       " {Electrons: [Electron, ...], Jets: [Particle, ...], ...},\n",
       " {Electrons: [Electron, ...], Jets: [Particle, ...], ...},\n",
       " {Electrons: [Electron, ...], Jets: [Particle, ...], ...}]\n",
       "----------------------------------------------------------\n",
       "type: 25452 * event</pre>"
      ],
      "text/plain": [
       "<NanoEventsArray [{Electrons: [...], Jets: ..., ...}, ...] type='25452 * event'>"
      ]
     },
     "execution_count": 7,
     "metadata": {},
     "output_type": "execute_result"
    }
   ],
   "source": [
    "# this cell might fail on the first time -- if so, run twice or restart the kernel\n",
    "\n",
    "# define boolean array\n",
    "selection_2e = ak.num(events.Electrons, axis=-1) > 1\n",
    "\n",
    "# print the selected events\n",
    "events[selection_2e].compute()"
   ]
  },
  {
   "cell_type": "markdown",
   "metadata": {},
   "source": [
    "Notice how the number of events in the awkward array has been reduced."
   ]
  },
  {
   "cell_type": "code",
   "execution_count": 8,
   "metadata": {},
   "outputs": [
    {
     "data": {
      "text/html": [
       "<pre>{Electrons: [Electron, ...],\n",
       " Jets: [Particle, ...],\n",
       " BTagging_AntiKt4EMPFlow: [{DL1dv01_pu: 0.111, _eventindex: 2, ...}, ...],\n",
       " EventInfo: [{mcEventWeights: 28.5, _eventindex: 2}, {...}, ..., {...}, {...}],\n",
       " Muons: []}\n",
       "-------------------------------------------------------------------------------\n",
       "type: event</pre>"
      ],
      "text/plain": [
       "<NanoEventsRecord {Electrons: [Electron, ...], Jets: [...], ...} type='event'>"
      ]
     },
     "execution_count": 8,
     "metadata": {},
     "output_type": "execute_result"
    }
   ],
   "source": [
    "# print the second of the selected events\n",
    "events[selection_2e][1].compute()"
   ]
  },
  {
   "cell_type": "code",
   "execution_count": 9,
   "metadata": {},
   "outputs": [
    {
     "data": {
      "text/html": [
       "<pre>[4.36e+04,\n",
       " 3.45e+04,\n",
       " 8.85e+04,\n",
       " 3.5e+04,\n",
       " 5.69e+04,\n",
       " 4.98e+03,\n",
       " 2.83e+04,\n",
       " 4.34e+04,\n",
       " 4.29e+04,\n",
       " 1.18e+05,\n",
       " ...,\n",
       " 3.64e+04,\n",
       " 2.39e+04,\n",
       " 4.77e+04,\n",
       " 7.22e+04,\n",
       " 5.11e+04,\n",
       " 1.61e+04,\n",
       " 6.93e+04,\n",
       " 1.35e+04,\n",
       " 4.27e+04]\n",
       "---------------------------------------------------------------------------\n",
       "type: 25452 * float32[parameters={&quot;__doc__&quot;: &quot;AnalysisElectronsAuxDyn.pt&quot;}]</pre>"
      ],
      "text/plain": [
       "<Array [4.36e+04, 3.45e+04, ..., 4.27e+04] type='25452 * float32[parameters...'>"
      ]
     },
     "execution_count": 9,
     "metadata": {},
     "output_type": "execute_result"
    }
   ],
   "source": [
    "# print the leading electron pt of the selected events\n",
    "events.Electrons[selection_2e][:, 0].pt.compute() # in MeV\n",
    "# events[selection_2e][:, \"Electrons\"][:, \"pt\"][:, 0].compute() # another uglier way to write this"
   ]
  },
  {
   "cell_type": "markdown",
   "metadata": {},
   "source": [
    "Next, we will demonstrate something more complicated. This is an example of the power of the schemas along with vector operations*. We will use a utility method [`delta_r`](https://coffeateam.github.io/coffea/api/coffea.nanoevents.methods.vector.LorentzVector.html#coffea.nanoevents.methods.vector.LorentzVector.delta_r) to calculate the distance $\\Delta R = \\sqrt{\\Delta\\eta^2+\\Delta\\phi^2}$ between two LorentzVector objects. In particular, we will calculate the distance between the leading and sub-leading electrons in each event. Of course, we need to make use we use events that have at least two electrons, thus we will utilize the `selection_2e` from above.\n",
    "\n",
    "To plot a histogram we will just use `matplotlib` for the moment. You might also want to try the [`hist`](https://github.com/scikit-hep/hist) library, which you will learn about at the [Introduction to hist](https://indico.cern.ch/event/1376945/timetable/?view=standard#33-introduction-to-hist) lecture.\n",
    "\n",
    "_\\* `coffea` still uses the internal [`coffea.nanoevents.methods.vector`](https://coffeateam.github.io/coffea/modules/coffea.nanoevents.methods.vector.html) but it will soon switch to the [`vector`](https://github.com/scikit-hep/vector) library, which will hopefully be feature-compatible._"
   ]
  },
  {
   "cell_type": "code",
   "execution_count": 10,
   "metadata": {
    "tags": []
   },
   "outputs": [
    {
     "data": {
      "image/png": "[encoded data removed]",
      "text/plain": [
       "<Figure size 640x480 with 1 Axes>"
      ]
     },
     "metadata": {},
     "output_type": "display_data"
    }
   ],
   "source": [
    "# distance between leading and sub-leading electron in every event\n",
    "dr = events.Electrons[selection_2e][:, 0].delta_r(events.Electrons[selection_2e][:, 1])\n",
    "\n",
    "# compute and plot\n",
    "plt.hist(dr.compute(), bins=50, range=(0, 5))\n",
    "plt.xlabel(r\"$\\Delta R(e_0, e_1)$\")\n",
    "plt.ylabel(\"Events\")\n",
    "plt.show()"
   ]
  },
  {
   "cell_type": "markdown",
   "metadata": {},
   "source": [
    "Let's now use the schema to calculate the invariant mass of a group of particles. In particular, calculate and plot the invariant mass of the four leading electrons of each event."
   ]
  },
  {
   "cell_type": "markdown",
   "metadata": {},
   "source": [
    "<details>\n",
    "<summary><b>Hint</b></summary>\n",
    "\n",
    "Use the [mass](https://coffeateam.github.io/coffea/api/coffea.nanoevents.methods.vector.LorentzVector.html#coffea.nanoevents.methods.vector.LorentzVector.mass) attribute.\n",
    "</details>"
   ]
  },
  {
   "cell_type": "code",
   "execution_count": 11,
   "metadata": {},
   "outputs": [],
   "source": [
    "# your code here"
   ]
  },
  {
   "cell_type": "markdown",
   "metadata": {},
   "source": [
    "<details>\n",
    "<summary><b>Answer</b></summary>\n",
    "\n",
    "```python\n",
    "# define boolean array to select events with 4 electrons\n",
    "selection_4e = ak.num(events.Electrons, axis=-1) == 4\n",
    "\n",
    "# calculate the invariant mass of the 4 electrons\n",
    "mass = (events.Electrons[selection_4e][:, 0] + \n",
    "        events.Electrons[selection_4e][:, 1] + \n",
    "        events.Electrons[selection_4e][:, 2] + \n",
    "        events.Electrons[selection_4e][:, 3]).mass\n",
    "\n",
    "# compute and plot\n",
    "plt.hist((mass/1000).compute(), bins=10, range=(100, 150))\n",
    "plt.xlabel(r\"$m(4e)$ [GeV]\")\n",
    "plt.ylabel(\"Events\")\n",
    "plt.show()\n",
    "```\n",
    "</details>"
   ]
  },
  {
   "cell_type": "markdown",
   "metadata": {},
   "source": [
    "## Element Links"
   ]
  },
  {
   "cell_type": "markdown",
   "metadata": {},
   "source": [
    "Some collections contain information which is contextually relevant to another collection. For example, in PHYSLITE files we store the `BTagging_AntiKt4EMPFlow` collection which contains information regarding the probabilities of the flavour origin of the objects of the `Jets` collection.\n",
    "\n",
    "The information is referenced and accessed by the `ElementLinks`. `ElementLinks` are like pointers that help point to specific objects in a collection. They have a structure similar to a Python dictionary with a key (`m_persKey`) to identify the collection they point to and a value (`m_persIndex`) to identify the index of the element in that collection. \n",
    "\n",
    "On the above example, each object of the `Jets` collection (i.e. each jet) holds a variable called `btaggingLink`, which points to the objects of the `BTagging_AntiKt4EMPFlow` collection. The index is used to identify which exactly `BTagging_AntiKt4EMPFlow` object corresponds to each jet."
   ]
  },
  {
   "cell_type": "code",
   "execution_count": 12,
   "metadata": {},
   "outputs": [
    {
     "data": {
      "text/plain": [
       "['m_persKey', 'm_persIndex']"
      ]
     },
     "execution_count": 12,
     "metadata": {},
     "output_type": "execute_result"
    }
   ],
   "source": [
    "events.Jets.btaggingLink.fields"
   ]
  },
  {
   "cell_type": "markdown",
   "metadata": {},
   "source": [
    "### Naive Linking"
   ]
  },
  {
   "cell_type": "markdown",
   "metadata": {},
   "source": [
    "We're currently working with `coffea` and the `PHYSLITESchema` to enable automatic cross-reference (_ElementLinking_) between collections. However, in simple cases we can achieve the linking, without actually using the `ElementLinks`.\n",
    "\n",
    "When there is **one-to-one** correspondence between the objects of two collections, we can link those without the need to resolve the actual links. For our example, each object of the `Jets` collection is linked to one object of the `BTagging_AntiKt4EMPFlow` collection.\n",
    "\n",
    "We will write a function to perform that linking. We will use the [DL1dv01](https://ftag.docs.cern.ch/algorithms/taggers/dl1/) flavour-tagging algorithm and information about its calibration for b-tagging can be found [here](https://ftag.docs.cern.ch/recommendations/algs/r22-preliminary/#working-point-definition-for-dl1dv01)."
   ]
  },
  {
   "cell_type": "code",
   "execution_count": 13,
   "metadata": {},
   "outputs": [],
   "source": [
    "def calculate_jets_DL1dv01(events):\n",
    "    \n",
    "    BTagging = events.BTagging_AntiKt4EMPFlow\n",
    "    \n",
    "    f_c = 0.018\n",
    "    DL1dv01 = BTagging.DL1dv01_pb/(f_c*BTagging.DL1dv01_pc + (1-f_c)*BTagging.DL1dv01_pu)\n",
    "    DL1dv01 = np.log(DL1dv01)\n",
    "\n",
    "    return DL1dv01"
   ]
  },
  {
   "cell_type": "markdown",
   "metadata": {},
   "source": [
    "We will use the above function to assign a new variable to the `Jets` collection. One can assign new variables to the arrays, with some caveats:\n",
    "\n",
    "* Assignment must use `events[\"path\", \"to\", \"name\"] = value`.\n",
    "* Assignment to a sliced events won't be accessible from the original variable."
   ]
  },
  {
   "cell_type": "code",
   "execution_count": 14,
   "metadata": {},
   "outputs": [
    {
     "data": {
      "text/plain": [
       "['pt', '_eventindex', 'eta', 'phi', 'm', 'btaggingLink', 'DL1dv01']"
      ]
     },
     "execution_count": 14,
     "metadata": {},
     "output_type": "execute_result"
    }
   ],
   "source": [
    "# assign new variable to the collection\n",
    "events['Jets', 'DL1dv01'] = calculate_jets_DL1dv01(events)\n",
    "\n",
    "events.Jets.fields"
   ]
  },
  {
   "cell_type": "markdown",
   "metadata": {},
   "source": [
    "Let's finally use the new variable to make a selection. We will plot the leading jet transverse momentum ($p_T$) for events that have at least one b-tagged jet at the 77% efficiency working point."
   ]
  },
  {
   "cell_type": "code",
   "execution_count": 15,
   "metadata": {
    "tags": []
   },
   "outputs": [
    {
     "data": {
      "image/png": "[encoded data removed]",
      "text/plain": [
       "<Figure size 640x480 with 1 Axes>"
      ]
     },
     "metadata": {},
     "output_type": "display_data"
    }
   ],
   "source": [
    "# boolean array -- events with at least one b-jet at 77% WP\n",
    "selection_1bjet = ak.sum(events.Jets.DL1dv01 > 2.456, axis=-1) > 0\n",
    "\n",
    "# plot the leading jet pt\n",
    "plt.hist((events.Jets[selection_1bjet][:, 0].pt/1000).compute(), bins=50, range=(0, 500))\n",
    "plt.xlabel(r\"$p_T(j_0)$ [GeV]\")\n",
    "plt.ylabel(\"Events\")\n",
    "plt.show()"
   ]
  }
 ],
 "metadata": {
  "kernelspec": {
   "display_name": "Python 3 (ipykernel)",
   "language": "python",
   "name": "python3"
  },
  "language_info": {
   "codemirror_mode": {
    "name": "ipython",
    "version": 3
   },
   "file_extension": ".py",
   "mimetype": "text/x-python",
   "name": "python",
   "nbconvert_exporter": "python",
   "pygments_lexer": "ipython3",
   "version": "3.10.14"
  }
 },
 "nbformat": 4,
 "nbformat_minor": 4
}
