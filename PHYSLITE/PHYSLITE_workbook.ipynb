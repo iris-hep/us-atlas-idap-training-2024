{
 "cells": [
  {
   "cell_type": "markdown",
   "metadata": {},
   "source": [
    "# Reading PHYSLITE files using the `PHYSLITESchema`"
   ]
  },
  {
   "cell_type": "code",
   "execution_count": null,
   "metadata": {},
   "outputs": [],
   "source": [
    "import coffea\n",
    "print(\"coffea version: \", coffea.__version__)\n",
    "import awkward as ak\n",
    "print(\"awkward version: \", ak.__version__)\n",
    "from coffea.nanoevents import NanoEventsFactory, PHYSLITESchema\n",
    "import numpy as np\n",
    "import matplotlib.pyplot as plt"
   ]
  },
  {
   "cell_type": "code",
   "execution_count": null,
   "metadata": {},
   "outputs": [],
   "source": [
    "# Hgg -> 4l sample\n",
    "\n",
    "# local\n",
    "# file_path = '/MyMachine/Downloads/DAOD_PHYSLITE.38191712._000001.pool.root.1'\n",
    "\n",
    "# stream\n",
    "file_path = \"root://eospublic.cern.ch//eos/opendata/atlas/rucio/mc20_13TeV/DAOD_PHYSLITE.38191712._000001.pool.root.1\""
   ]
  },
  {
   "cell_type": "code",
   "execution_count": null,
   "metadata": {},
   "outputs": [],
   "source": [
    "# load in memory\n",
    "\n",
    "def filter_name(name):\n",
    "    '''\n",
    "    Load only the properties/variables needed.\n",
    "    '''\n",
    "    return name in [\n",
    "        \"EventInfoAuxDyn.mcEventWeights\",\n",
    "        \n",
    "        \"AnalysisElectronsAuxDyn.pt\",\n",
    "        \"AnalysisElectronsAuxDyn.eta\",\n",
    "        \"AnalysisElectronsAuxDyn.phi\",\n",
    "        \"AnalysisElectronsAuxDyn.m\",\n",
    "        \"AnalysisElectronsAuxDyn.DFCommonElectronsLHLoose\",\n",
    "        \"AnalysisElectronsAuxDyn.charge\",\n",
    "        \n",
    "        \"AnalysisMuonsAuxDyn.pt\",\n",
    "        \"AnalysisMuonsAuxDyn.eta\",\n",
    "        \"AnalysisMuonsAuxDyn.phi\",\n",
    "        \"AnalysisMuonsAuxDyn.m\",\n",
    "        \"AnalysisMuonsAuxDyn.quality\",\n",
    "        \n",
    "        \"AnalysisJetsAuxDyn.pt\",\n",
    "        \"AnalysisJetsAuxDyn.eta\",\n",
    "        \"AnalysisJetsAuxDyn.phi\",\n",
    "        \"AnalysisJetsAuxDyn.m\",\n",
    "        \n",
    "        \"BTagging_AntiKt4EMPFlowAuxDyn.DL1dv01_pb\",\n",
    "        \"BTagging_AntiKt4EMPFlowAuxDyn.DL1dv01_pc\",\n",
    "        \"BTagging_AntiKt4EMPFlowAuxDyn.DL1dv01_pu\",\n",
    "    ]\n",
    "\n",
    "events = NanoEventsFactory.from_root(\n",
    "    {file_path: \"CollectionTree\"}, # all the event properties are stored in the TTree called CollectionTree\n",
    "    schemaclass=PHYSLITESchema, # tell NanoEventsFactory.from_root that you read a PHYSLITE file\n",
    "    uproot_options=dict(filter_name=filter_name)\n",
    ").events()"
   ]
  },
  {
   "cell_type": "code",
   "execution_count": null,
   "metadata": {},
   "outputs": [],
   "source": [
    "events.fields"
   ]
  },
  {
   "cell_type": "code",
   "execution_count": null,
   "metadata": {},
   "outputs": [],
   "source": [
    "events.Electrons.fields"
   ]
  },
  {
   "cell_type": "code",
   "execution_count": null,
   "metadata": {},
   "outputs": [],
   "source": [
    "events.Electrons.compute()"
   ]
  },
  {
   "cell_type": "markdown",
   "metadata": {},
   "source": [
    "## Slicing"
   ]
  },
  {
   "cell_type": "code",
   "execution_count": null,
   "metadata": {},
   "outputs": [],
   "source": [
    "# define boolean array\n",
    "selection_2e = ak.num(events.Electrons, axis=-1) > 1\n",
    "\n",
    "# print the selected events\n",
    "events[selection_2e].compute()"
   ]
  },
  {
   "cell_type": "code",
   "execution_count": null,
   "metadata": {},
   "outputs": [],
   "source": [
    "# print the second of the selected events\n",
    "events[selection_2e][1].compute()"
   ]
  },
  {
   "cell_type": "code",
   "execution_count": null,
   "metadata": {},
   "outputs": [],
   "source": [
    "# print the leading electron pt of the selected events\n",
    "events.Electrons[selection_2e][:, 0].pt.compute() # in MeV\n",
    "# events[selection_2e][:, \"Electrons\"][:, \"pt\"][:, 0].compute() # another uglier way to write this"
   ]
  },
  {
   "cell_type": "code",
   "execution_count": null,
   "metadata": {},
   "outputs": [],
   "source": [
    "# distance between leading and sub-leading electron in every event\n",
    "dr = events.Electrons[selection_2e][:, 0].delta_r(events.Electrons[selection_2e][:, 1])\n",
    "\n",
    "# compute and plot\n",
    "plt.hist(dr.compute(), bins=50, range=(0, 5))\n",
    "plt.xlabel(r\"$\\Delta R(e_0, e_1)$\")\n",
    "plt.ylabel(\"Events\")\n",
    "plt.show()"
   ]
  },
  {
   "cell_type": "markdown",
   "metadata": {},
   "source": [
    "Let's now use the schema to calculate the invariant mass of a group of particles. In particular, calculate and plot the invariant mass of the four leading electrons of each event."
   ]
  },
  {
   "cell_type": "code",
   "execution_count": null,
   "metadata": {},
   "outputs": [],
   "source": [
    "# your code here"
   ]
  },
  {
   "cell_type": "markdown",
   "metadata": {},
   "source": [
    "## Element Links"
   ]
  },
  {
   "cell_type": "code",
   "execution_count": null,
   "metadata": {},
   "outputs": [],
   "source": [
    "# naive ElementLinking\n",
    "def calculate_jets_DL1dv01(events):\n",
    "    \n",
    "    BTagging = events.BTagging_AntiKt4EMPFlow\n",
    "    \n",
    "    f_c = 0.018\n",
    "    DL1dv01 = BTagging.DL1dv01_pb/(f_c*BTagging.DL1dv01_pc + (1-f_c)*BTagging.DL1dv01_pu)\n",
    "    DL1dv01 = np.log(DL1dv01)\n",
    "\n",
    "    return DL1dv01"
   ]
  },
  {
   "cell_type": "code",
   "execution_count": null,
   "metadata": {},
   "outputs": [],
   "source": [
    "# assign new variables to the arrays\n",
    "events['Jets', 'DL1dv01'] = calculate_jets_DL1dv01(events)\n",
    "\n",
    "events.Jets.fields"
   ]
  },
  {
   "cell_type": "code",
   "execution_count": null,
   "metadata": {},
   "outputs": [],
   "source": [
    "events.Jets.DL1dv01.compute()"
   ]
  }
 ],
 "metadata": {
  "kernelspec": {
   "display_name": "coffea_latest",
   "language": "python",
   "name": "python3"
  },
  "language_info": {
   "codemirror_mode": {
    "name": "ipython",
    "version": 3
   },
   "file_extension": ".py",
   "mimetype": "text/x-python",
   "name": "python",
   "nbconvert_exporter": "python",
   "pygments_lexer": "ipython3",
   "version": "3.11.9"
  }
 },
 "nbformat": 4,
 "nbformat_minor": 2
}
