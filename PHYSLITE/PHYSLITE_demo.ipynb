{
 "cells": [
  {
   "cell_type": "markdown",
   "metadata": {},
   "source": [
    "# Reading PHYSLITE files using the `PHYSLITESchema`"
   ]
  },
  {
   "cell_type": "markdown",
   "metadata": {},
   "source": [
    "`NanoEvents` is a `coffea` utility to wrap NTuple structures (such as the ATLAS PHYSLITE format) into a single awkward array with appropriate object methods (such as Lorentz vector methods), cross references, and nested objects. All are by default accessed in delayed* mode from the input ROOT TTree via `uproot`.  \n",
    "\n",
    "The interpretation of the TTree data is configurable via schema objects, which are community-supplied for various input file types. Relevant schemas for this training:\n",
    "1. `BaseSchema`, which provides a simple representation of the input TTree, where each branch is available verbatim as `events.branch_name`. Any branches that `uproot` supports at \"full speed\" (i.e. that are fully split and either flat or single-jagged) can be read by this schema.\n",
    "2. `PHYSLITESchema`, for the ATLAS PHYSLITE derivations.\n",
    "\n",
    "The schema code, along with their specialized methods, can be found here: https://github.com/CoffeaTeam/coffea/tree/master/src/coffea/nanoevents\n",
    "\n",
    "\\* _delayed_ access refers to only fetching the needed data from the file when you're ready to compute the needed quantities. Until then, a minimal amount of metadata is used to trace the operations to eventually be performed (frequently called \"lazy\" evaluation).\n",
    "\n",
    "In this demo we will read the content of a PHYSLITE file using the `PHYSLITESchema`. The usage and benefits of the schema will be demonstrated."
   ]
  },
  {
   "cell_type": "code",
   "execution_count": null,
   "metadata": {},
   "outputs": [],
   "source": [
    "import coffea\n",
    "print(\"coffea version: \", coffea.__version__)\n",
    "import awkward as ak\n",
    "print(\"awkward version: \", ak.__version__)\n",
    "from coffea.nanoevents import NanoEventsFactory, PHYSLITESchema\n",
    "import numpy as np\n",
    "import matplotlib.pyplot as plt"
   ]
  },
  {
   "cell_type": "markdown",
   "metadata": {},
   "source": [
    "Let's load a PHYSLITE file containing simulated event data describing the production the Higgs boson and its decay via a pair of Z bosons to a four lepton final state. Those data are part of the recent ATLAS open data release and can be found at DOI:[10.7483/OPENDATA.ATLAS.Z2J9.709J](http://doi.org/10.7483/OPENDATA.ATLAS.Z2J9.709J).\n",
    "\n",
    "More information about our data release at [this article](https://atlas.cern/Updates/News/Open-Data-Research) and the ATLAS open data portal: https://opendata.atlas.cern/\n",
    "\n",
    "You can download those files at your local machine or you can stream them directly."
   ]
  },
  {
   "cell_type": "code",
   "execution_count": null,
   "metadata": {},
   "outputs": [],
   "source": [
    "# Hgg -> 4l sample\n",
    "\n",
    "# local\n",
<<<<<<< HEAD
<<<<<<< HEAD
<<<<<<< HEAD
<<<<<<< HEAD
<<<<<<< HEAD
    "# file_path = '/Users/ekourlitis/cernbox/mc20_13TeV.345060.PowhegPythia8EvtGen_NNLOPS_nnlo_30_ggH125_ZZ4l.deriv.DAOD_PHYSLITE.e7735_s3681_r13167_p6026/mc20_13TeV/DAOD_PHYSLITE.38191712._000020.pool.root.1'\n",
=======
    "file_path = '/Users/ekourlitis/cernbox/mc20_13TeV.345060.PowhegPythia8EvtGen_NNLOPS_nnlo_30_ggH125_ZZ4l.deriv.DAOD_PHYSLITE.e7735_s3681_r13167_p6026/mc20_13TeV/DAOD_PHYSLITE.38191712._000020.pool.root.1'\n",
>>>>>>> feecd8a (Add PHYSLITE material (#14))
=======
=======
>>>>>>> f79dd9a (update notebook)
=======
>>>>>>> bfe0a28 (finalize EventLinks)
    "file_path = '/Users/ekourlitis/cernbox/mc20_13TeV.345060.PowhegPythia8EvtGen_NNLOPS_nnlo_30_ggH125_ZZ4l.deriv.DAOD_PHYSLITE.e7735_s3681_r13167_p6026/mc20_13TeV/DAOD_PHYSLITE.38191712._000020.pool.root.1'\n",
=======
    "# file_path = '/Users/ekourlitis/cernbox/mc20_13TeV.345060.PowhegPythia8EvtGen_NNLOPS_nnlo_30_ggH125_ZZ4l.deriv.DAOD_PHYSLITE.e7735_s3681_r13167_p6026/mc20_13TeV/DAOD_PHYSLITE.38191712._000020.pool.root.1'\n",
>>>>>>> efe3b47 (first notebook draft)
<<<<<<< HEAD
>>>>>>> e990756 (first notebook draft)
=======
=======
    "file_path = '/Users/ekourlitis/cernbox/mc20_13TeV.345060.PowhegPythia8EvtGen_NNLOPS_nnlo_30_ggH125_ZZ4l.deriv.DAOD_PHYSLITE.e7735_s3681_r13167_p6026/mc20_13TeV/DAOD_PHYSLITE.38191712._000020.pool.root.1'\n",
>>>>>>> f33afd8 (update notebook)
<<<<<<< HEAD
>>>>>>> f79dd9a (update notebook)
=======
=======
    "file_path = '/Users/ekourlitis/cernbox/mc20_13TeV.345060.PowhegPythia8EvtGen_NNLOPS_nnlo_30_ggH125_ZZ4l.deriv.DAOD_PHYSLITE.e7735_s3681_r13167_p6026/mc20_13TeV/DAOD_PHYSLITE.38191712._000020.pool.root.1'\n",
=======
    "# file_path = '/Users/ekourlitis/cernbox/mc20_13TeV.345060.PowhegPythia8EvtGen_NNLOPS_nnlo_30_ggH125_ZZ4l.deriv.DAOD_PHYSLITE.e7735_s3681_r13167_p6026/mc20_13TeV/DAOD_PHYSLITE.38191712._000020.pool.root.1'\n",
>>>>>>> 86c9406 (finalize EventLinks)
>>>>>>> 4256ba8 (finalize EventLinks)
>>>>>>> bfe0a28 (finalize EventLinks)
=======
    "# file_path = '/Users/ekourlitis/cernbox/mc20_13TeV.345060.PowhegPythia8EvtGen_NNLOPS_nnlo_30_ggH125_ZZ4l.deriv.DAOD_PHYSLITE.e7735_s3681_r13167_p6026/mc20_13TeV/DAOD_PHYSLITE.38191712._000020.pool.root.1'\n",
>>>>>>> f32ef09 (finalize notebooks)
    "\n",
    "# stream\n",
    "file_path = \"root://eospublic.cern.ch//eos/opendata/atlas/rucio/mc20_13TeV/DAOD_PHYSLITE.38191712._000001.pool.root.1\""
   ]
  },
  {
   "cell_type": "markdown",
   "metadata": {},
   "source": [
    "To make the loading lighter, we will use the `filter_name` function, in order to load only the variables needed. Then we will use `coffea`'s `NanoEventsFactory.from_root` to load the file. Consider looking at the [`from_root`](https://coffeateam.github.io/coffea/api/coffea.nanoevents.NanoEventsFactory.html#coffea.nanoevents.NanoEventsFactory.from_root) class method to see all optional arguments.\n",
    "\n",
    "All the variables stored in the open data PHYSLITE files are listed in: https://atlas-physlite-content-opendata.web.cern.ch/. For your reference, the equivalent internal webpage for general PHYSLITE files is: https://atlas-physlite-content.web.cern.ch/.\n",
    "\n",
    "_Some warnings will appear as we're still working with `uproot` and the `PHYSLITESchema` to correctly interpret all the variables stored in PHYSLITE._"
   ]
  },
  {
   "cell_type": "code",
<<<<<<< HEAD
<<<<<<< HEAD
<<<<<<< HEAD
<<<<<<< HEAD
<<<<<<< HEAD
<<<<<<< HEAD
=======
>>>>>>> f79dd9a (update notebook)
=======
>>>>>>> aeacb20 (add draft text for ElementLinks)
=======
>>>>>>> bfe0a28 (finalize EventLinks)
=======
>>>>>>> f32ef09 (finalize notebooks)
   "execution_count": null,
=======
   "execution_count": 7,
>>>>>>> 861a44a (add draft text for ElementLinks)
=======
   "execution_count": null,
>>>>>>> feecd8a (Add PHYSLITE material (#14))
   "metadata": {},
   "outputs": [],
   "source": [
    "# load in memory\n",
    "\n",
    "def filter_name(name):\n",
    "    '''\n",
    "    Load only the variables needed.\n",
    "    '''\n",
    "    return name in [\n",
    "        \"EventInfoAuxDyn.mcEventWeights\",\n",
    "        \n",
    "        \"AnalysisElectronsAuxDyn.pt\",\n",
    "        \"AnalysisElectronsAuxDyn.eta\",\n",
    "        \"AnalysisElectronsAuxDyn.phi\",\n",
    "        \"AnalysisElectronsAuxDyn.m\",\n",
    "        \n",
    "        \"AnalysisMuonsAuxDyn.pt\",\n",
    "        \"AnalysisMuonsAuxDyn.eta\",\n",
    "        \"AnalysisMuonsAuxDyn.phi\",\n",
    "        \"AnalysisMuonsAuxDyn.m\",\n",
    "        \n",
    "        \"AnalysisJetsAuxDyn.pt\",\n",
    "        \"AnalysisJetsAuxDyn.eta\",\n",
    "        \"AnalysisJetsAuxDyn.phi\",\n",
    "        \"AnalysisJetsAuxDyn.m\",\n",
    "        \"AnalysisJetsAuxDyn.btaggingLink\",\n",
    "        \n",
    "        \"BTagging_AntiKt4EMPFlowAuxDyn.DL1dv01_pb\",\n",
    "        \"BTagging_AntiKt4EMPFlowAuxDyn.DL1dv01_pc\",\n",
    "        \"BTagging_AntiKt4EMPFlowAuxDyn.DL1dv01_pu\",\n",
    "    ]\n",
    "\n",
    "events = NanoEventsFactory.from_root(\n",
    "    {file_path: \"CollectionTree\"}, # all the event variables are stored in the TTree called CollectionTree\n",
    "    schemaclass=PHYSLITESchema, # tell NanoEventsFactory.from_root that you read a PHYSLITE file\n",
    "    uproot_options=dict(filter_name=filter_name)\n",
    ").events()"
   ]
  },
  {
   "cell_type": "markdown",
   "metadata": {},
   "source": [
<<<<<<< HEAD
<<<<<<< HEAD
<<<<<<< HEAD
<<<<<<< HEAD
<<<<<<< HEAD
=======
>>>>>>> aeacb20 (add draft text for ElementLinks)
=======
>>>>>>> bfe0a28 (finalize EventLinks)
    "The `events` object is an awkward array, which at its top level is a record array with one record for each \"collection\" (or \"container\"), where a collection is a grouping of variables (TBranches) based on the naming conventions of `PHYSLITESchema`. For example, in the file we opened there are the collections:"
=======
    "The `events` object is an awkward array, which at its top level is a record array with one record for each \"collection\" (or \"container\"), where a collection is a grouping of properties (TBranches) based on the naming conventions of `PHYSLITESchema`. For example, in the file we opened there are the collections:"
>>>>>>> 861a44a (add draft text for ElementLinks)
<<<<<<< HEAD
<<<<<<< HEAD
=======
    "The `events` object is an awkward array, which at its top level is a record array with one record for each \"collection\" (or \"container\"), where a collection is a grouping of variables (TBranches) based on the naming conventions of `PHYSLITESchema`. For example, in the file we opened there are the collections:"
>>>>>>> feecd8a (Add PHYSLITE material (#14))
=======
>>>>>>> aeacb20 (add draft text for ElementLinks)
=======
=======
    "The `events` object is an awkward array, which at its top level is a record array with one record for each \"collection\" (or \"container\"), where a collection is a grouping of variables (TBranches) based on the naming conventions of `PHYSLITESchema`. For example, in the file we opened there are the collections:"
>>>>>>> 86c9406 (finalize EventLinks)
>>>>>>> bfe0a28 (finalize EventLinks)
=======
    "The `events` object is an awkward array, which at its top level is a record array with one record for each \"collection\" (or \"container\"), where a collection is a grouping of variables (TBranches) based on the naming conventions of `PHYSLITESchema`. For example, in the file we opened there are the collections:"
>>>>>>> f32ef09 (finalize notebooks)
   ]
  },
  {
   "cell_type": "code",
<<<<<<< HEAD
<<<<<<< HEAD
<<<<<<< HEAD
<<<<<<< HEAD
<<<<<<< HEAD
=======
>>>>>>> f79dd9a (update notebook)
=======
>>>>>>> bfe0a28 (finalize EventLinks)
   "execution_count": null,
   "metadata": {},
   "outputs": [],
=======
   "execution_count": 20,
   "metadata": {},
   "outputs": [
    {
     "data": {
      "text/plain": [
       "['Electrons', 'Jets', 'BTagging_AntiKt4EMPFlow', 'EventInfo', 'Muons']"
      ]
     },
     "execution_count": 20,
     "metadata": {},
     "output_type": "execute_result"
    }
   ],
<<<<<<< HEAD
>>>>>>> 861a44a (add draft text for ElementLinks)
=======
   "execution_count": null,
   "metadata": {},
   "outputs": [],
>>>>>>> feecd8a (Add PHYSLITE material (#14))
=======
>>>>>>> f33afd8 (update notebook)
<<<<<<< HEAD
>>>>>>> f79dd9a (update notebook)
=======
=======
   "execution_count": null,
   "metadata": {},
   "outputs": [],
>>>>>>> 4256ba8 (finalize EventLinks)
>>>>>>> bfe0a28 (finalize EventLinks)
=======
   "execution_count": null,
   "metadata": {},
   "outputs": [],
>>>>>>> f32ef09 (finalize notebooks)
   "source": [
    "events.fields"
   ]
  },
  {
   "cell_type": "markdown",
   "metadata": {},
   "source": [
    "For each collection, we can list the variables that have been loaded. For example, let's look at the variables of the `Electrons`:"
   ]
  },
  {
   "cell_type": "code",
   "execution_count": null,
   "metadata": {},
   "outputs": [],
   "source": [
    "events.Electrons.fields"
   ]
  },
  {
   "cell_type": "markdown",
   "metadata": {},
   "source": [
    "The data in a PHYSLITE file are highly structured but jagged. In other words, in each event there are different number of objects in each collection, thus the awkward arrays are not rectilinear but _awkward_. We can see that if we actually request to compute the objects of the `Electrons` collection.\n",
    "\n",
    "_This is the first time we will call the `compute()` method. Actual number crunching is happening here!_"
   ]
  },
  {
   "cell_type": "code",
   "execution_count": null,
   "metadata": {},
   "outputs": [],
   "source": [
    "events.Electrons.compute()"
   ]
  },
  {
   "cell_type": "markdown",
   "metadata": {},
   "source": [
    "## Slicing"
   ]
  },
  {
   "cell_type": "markdown",
   "metadata": {},
   "source": [
    "One of the most common operations you will found yourself doing is event selection or array _slicing_. We can practice this by first defining an awkward (boolean) array by a logical operation. Then we can use this array as an argument to slice our events.\n",
    "\n",
    "For example, let's request events with at least two electrons:"
   ]
  },
  {
   "cell_type": "code",
   "execution_count": null,
   "metadata": {},
   "outputs": [],
   "source": [
    "# define boolean array\n",
    "selection_2e = ak.num(events.Electrons, axis=-1) > 1\n",
    "\n",
    "# print the selected events\n",
    "events[selection_2e].compute()"
   ]
  },
  {
   "cell_type": "markdown",
   "metadata": {},
   "source": [
    "Notice how the number of events in the awkward array has been reduced."
   ]
  },
  {
   "cell_type": "code",
   "execution_count": null,
   "metadata": {},
   "outputs": [],
   "source": [
    "# print the second of the selected events\n",
    "events[selection_2e][1].compute()"
   ]
  },
  {
   "cell_type": "code",
   "execution_count": null,
   "metadata": {},
   "outputs": [],
   "source": [
    "# print the leading electron pt of the selected events\n",
    "events.Electrons[selection_2e][:, 0].pt.compute() # in MeV\n",
    "# events[selection_2e][:, \"Electrons\"][:, \"pt\"][:, 0].compute() # another uglier way to write this"
   ]
  },
  {
   "cell_type": "code",
   "execution_count": null,
   "metadata": {},
   "outputs": [],
   "source": [
    "events.Electrons.pt"
   ]
  },
  {
   "cell_type": "markdown",
   "metadata": {},
   "source": [
    "Next, we will demonstrate something more complicated. This is an example of the power of the schemas along with vector operations*. We will use a utility method [`delta_r`](https://coffeateam.github.io/coffea/api/coffea.nanoevents.methods.vector.LorentzVector.html#coffea.nanoevents.methods.vector.LorentzVector.delta_r) to calculate the distance $\\Delta R = \\sqrt{\\Delta\\eta^2+\\Delta\\phi^2}$ between two LorentzVector objects. In particular, we will calculate the distance between the leading and sub-leading electrons in each event. Of course, we need to make use we use events that have at least two electrons, thus we will utilize the `selection_2e` from above.\n",
    "\n",
    "To plot a histogram we will just use `matplotlib` for the moment. You might also want to try the [`hist`](https://github.com/scikit-hep/hist) library which you will learn about this afternoon:\n",
    "\n",
    "https://indico.cern.ch/event/1376945/timetable/?view=standard#33-introduction-to-hist\n",
    "\n",
    "_\\* `coffea` still uses the internal [`coffea.nanoevents.methods.vector`](https://coffeateam.github.io/coffea/modules/coffea.nanoevents.methods.vector.html) but it will soon switch to the [`vector`](https://github.com/scikit-hep/vector) library, which will hopefully be feature-compatible._"
   ]
  },
  {
   "cell_type": "code",
   "execution_count": null,
   "metadata": {},
   "outputs": [],
   "source": [
    "# distance between leading and sub-leading electron in every event\n",
    "dr = events.Electrons[selection_2e][:, 0].delta_r(events.Electrons[selection_2e][:, 1])\n",
    "\n",
    "# compute and plot\n",
    "plt.hist(dr.compute(), bins=50, range=(0, 5))\n",
    "plt.xlabel(r\"$\\Delta R(e_0, e_1)$\")\n",
    "plt.ylabel(\"Events\")\n",
    "plt.show()"
   ]
  },
  {
   "cell_type": "markdown",
   "metadata": {},
   "source": [
    "Let's now use the schema to calculate the invariant mass of a group of particles. In particular, calculate and plot the invariant mass of the four leading electrons of each event."
   ]
  },
  {
   "cell_type": "markdown",
   "metadata": {},
   "source": [
    "<details>\n",
    "<summary><b>Hint</b></summary>\n",
    "\n",
    "Use the [mass](https://coffeateam.github.io/coffea/api/coffea.nanoevents.methods.vector.LorentzVector.html#coffea.nanoevents.methods.vector.LorentzVector.mass) attribute.\n",
    "</details>"
   ]
  },
  {
   "cell_type": "code",
   "execution_count": null,
   "metadata": {},
   "outputs": [],
   "source": [
    "# your code here"
   ]
  },
  {
   "cell_type": "markdown",
   "metadata": {},
   "source": [
    "<details>\n",
    "<summary><b>Answer</b></summary>\n",
    "\n",
    "```python\n",
    "# define boolean array to select events with 4 electrons\n",
    "selection_4e = ak.num(events.Electrons, axis=-1) == 4\n",
    "\n",
    "# calculate the invariant mass of the 4 electrons\n",
    "mass = (events.Electrons[selection_4e][:, 0] + \n",
    "        events.Electrons[selection_4e][:, 1] + \n",
    "        events.Electrons[selection_4e][:, 2] + \n",
    "        events.Electrons[selection_4e][:, 3]).mass\n",
    "\n",
    "# compute and plot\n",
    "plt.hist((mass/1000).compute(), bins=10, range=(100, 150))\n",
    "plt.xlabel(r\"$m(4e)$ [GeV]\")\n",
    "plt.ylabel(\"Events\")\n",
    "plt.show()\n",
    "```\n",
    "</details>"
   ]
  },
  {
   "cell_type": "markdown",
   "metadata": {},
   "source": [
    "## Element Links"
   ]
  },
  {
   "cell_type": "markdown",
   "metadata": {},
   "source": [
<<<<<<< HEAD
<<<<<<< HEAD
<<<<<<< HEAD
<<<<<<< HEAD
<<<<<<< HEAD
=======
>>>>>>> aeacb20 (add draft text for ElementLinks)
=======
>>>>>>> bfe0a28 (finalize EventLinks)
=======
>>>>>>> f32ef09 (finalize notebooks)
    "Some collections contain information which is contextually relevant to another collection. For example, in PHYSLITE files we store the `BTagging_AntiKt4EMPFlow` collection which contains information regarding the probabilities of the flavour origin of the objects of the `Jets` collection.\n",
    "\n",
    "The information is referenced and accessed by the `ElementLinks`. `ElementLinks` are like pointers that help point to specific objects in a collection. They have a structure similar to a Python dictionary with a key (`m_persKey`) to identify the collection they point to and a value (`m_persIndex`) to identify the index of the element in that collection. \n",
    "\n",
    "On the above example, each object of the `Jets` collection (i.e. each jet) holds a variable called `btaggingLink`, which points to the objects of the `BTagging_AntiKt4EMPFlow` collection. The index is used to identify which exactly `BTagging_AntiKt4EMPFlow` object corresponds to each jet."
<<<<<<< HEAD
=======
    "Some collections contain information which is contextually linked to another collection. For example, in PHYSLITE files we store the `BTagging_AntiKt4EMPFlow` collection which contains information regarding the flavour-tag scores of the objects of the `Jets` collection.\n",
<<<<<<< HEAD
<<<<<<< HEAD
=======
    "Some collections contain information which is contextually relevant to another collection. For example, in PHYSLITE files we store the `BTagging_AntiKt4EMPFlow` collection which contains information regarding the probabilities of the flavour origin of the objects of the `Jets` collection.\n",
>>>>>>> feecd8a (Add PHYSLITE material (#14))
    "\n",
    "The information is referenced and accessed by the `ElementLinks`. `ElementLinks` are like pointers that help point to specific objects in a collection. They have a structure similar to a Python dictionary with a key (`m_persKey`) to identify the collection they point to and a value (`m_persIndex`) to identify the index of the element in that collection. \n",
    "\n",
<<<<<<< HEAD
    "On the above example, each object of the `Jets` collection (i.e. each jet) holds a property called `btaggingLink`. This property looks like a dictionary of `m_persKey : m_persIndex` key-value pairs. `m_persKey` is used to identify which collection and `m_persIndex` which object of that collection is linked to each jet."
>>>>>>> 861a44a (add draft text for ElementLinks)
=======
    "On the above example, each object of the `Jets` collection (i.e. each jet) holds a variable called `btaggingLink`, which points to the objects of the `BTagging_AntiKt4EMPFlow` collection. The index is used to identify which exactly `BTagging_AntiKt4EMPFlow` object corresponds to each jet."
>>>>>>> feecd8a (Add PHYSLITE material (#14))
=======
=======
=======
    "Some collections contain information which is contextually relevant to another collection. For example, in PHYSLITE files we store the `BTagging_AntiKt4EMPFlow` collection which contains information regarding the probabilities of the flavour origin of the objects of the `Jets` collection.\n",
>>>>>>> 86c9406 (finalize EventLinks)
>>>>>>> bfe0a28 (finalize EventLinks)
    "\n",
    "The information is referenced and accessed by the `ElementLinks`. `ElementLinks` are like pointers that help point to specific objects in a collection. They have a structure similar to a Python dictionary with a key (`m_persKey`) to identify the collection they point to and a value (`m_persIndex`) to identify the index of the element in that collection. \n",
    "\n",
<<<<<<< HEAD
    "On the above example, each object of the `Jets` collection (i.e. each jet) holds a property called `btaggingLink`. This property looks like a dictionary of `m_persKey : m_persIndex` key-value pairs. `m_persKey` is used to identify which collection and `m_persIndex` which object of that collection is linked to each jet."
>>>>>>> 861a44a (add draft text for ElementLinks)
<<<<<<< HEAD
>>>>>>> aeacb20 (add draft text for ElementLinks)
=======
=======
    "On the above example, each object of the `Jets` collection (i.e. each jet) holds a variable called `btaggingLink`, which points to the objects of the `BTagging_AntiKt4EMPFlow` collection. The index is used to identify which exactly `BTagging_AntiKt4EMPFlow` object corresponds to each jet."
>>>>>>> 86c9406 (finalize EventLinks)
>>>>>>> bfe0a28 (finalize EventLinks)
=======
>>>>>>> f32ef09 (finalize notebooks)
   ]
  },
  {
   "cell_type": "code",
<<<<<<< HEAD
<<<<<<< HEAD
<<<<<<< HEAD
<<<<<<< HEAD
<<<<<<< HEAD
<<<<<<< HEAD
<<<<<<< HEAD
=======
>>>>>>> e990756 (first notebook draft)
=======
>>>>>>> f79dd9a (update notebook)
=======
>>>>>>> aeacb20 (add draft text for ElementLinks)
=======
>>>>>>> bfe0a28 (finalize EventLinks)
   "execution_count": null,
   "metadata": {},
   "outputs": [],
=======
<<<<<<< HEAD
   "execution_count": 24,
=======
   "execution_count": 13,
<<<<<<< HEAD
>>>>>>> e990756 (first notebook draft)
=======
=======
   "execution_count": 29,
>>>>>>> f33afd8 (update notebook)
<<<<<<< HEAD
>>>>>>> f79dd9a (update notebook)
=======
=======
=======
>>>>>>> 4256ba8 (finalize EventLinks)
   "execution_count": 29,
=======
   "execution_count": 24,
>>>>>>> 861a44a (add draft text for ElementLinks)
>>>>>>> 26e5a88 (add draft text for ElementLinks)
>>>>>>> aeacb20 (add draft text for ElementLinks)
   "metadata": {},
   "outputs": [
    {
     "data": {
      "text/plain": [
       "['m_persKey', 'm_persIndex']"
      ]
     },
<<<<<<< HEAD
<<<<<<< HEAD
<<<<<<< HEAD
     "execution_count": 24,
=======
     "execution_count": 13,
>>>>>>> e990756 (first notebook draft)
=======
     "execution_count": 29,
>>>>>>> f79dd9a (update notebook)
=======
     "execution_count": 29,
=======
     "execution_count": 24,
>>>>>>> 861a44a (add draft text for ElementLinks)
>>>>>>> aeacb20 (add draft text for ElementLinks)
     "metadata": {},
     "output_type": "execute_result"
    }
   ],
<<<<<<< HEAD
<<<<<<< HEAD
>>>>>>> 861a44a (add draft text for ElementLinks)
=======
   "execution_count": null,
   "metadata": {},
   "outputs": [],
>>>>>>> feecd8a (Add PHYSLITE material (#14))
=======
>>>>>>> efe3b47 (first notebook draft)
>>>>>>> e990756 (first notebook draft)
=======
>>>>>>> efe3b47 (first notebook draft)
=======
=======
   "execution_count": null,
   "metadata": {},
   "outputs": [],
>>>>>>> 86c9406 (finalize EventLinks)
>>>>>>> 4256ba8 (finalize EventLinks)
>>>>>>> bfe0a28 (finalize EventLinks)
=======
   "execution_count": null,
   "metadata": {},
   "outputs": [],
>>>>>>> f32ef09 (finalize notebooks)
   "source": [
    "events.Jets.btaggingLink.fields"
   ]
  },
  {
   "cell_type": "markdown",
   "metadata": {},
   "source": [
<<<<<<< HEAD
<<<<<<< HEAD
<<<<<<< HEAD
<<<<<<< HEAD
<<<<<<< HEAD
=======
>>>>>>> feecd8a (Add PHYSLITE material (#14))
=======
>>>>>>> aeacb20 (add draft text for ElementLinks)
=======
=======
>>>>>>> 86c9406 (finalize EventLinks)
>>>>>>> bfe0a28 (finalize EventLinks)
=======
>>>>>>> f32ef09 (finalize notebooks)
    "### Naive Linking"
   ]
  },
  {
   "cell_type": "markdown",
   "metadata": {},
   "source": [
    "We're currently working with `coffea` and the `PHYSLITESchema` to enable automatic cross-reference (_ElementLinking_) between collections. However, in simple cases we can achieve the linking, without actually using the `ElementLinks`.\n",
    "\n",
    "When there is **one-to-one** correspondence between the objects of two collections, we can link those without the need to resolve the actual links. For our example, each object of the `Jets` collection is linked to one object of the `BTagging_AntiKt4EMPFlow` collection.\n",
    "\n",
    "We will write a function to perform that linking. We will use the [DL1dv01](https://ftag.docs.cern.ch/algorithms/taggers/dl1/) flavour-tagging algorithm and information about its calibration can be found [here](https://ftag.docs.cern.ch/recommendations/algs/r22-preliminary/#working-point-definition-for-dl1dv01)."
<<<<<<< HEAD
=======
    "We're currently working with `coffea` and the `PHYSLITESchema` to enable proper cross-reference (ElementLinking) between collections. However, in simple cases we can achieve this linking, without actually using the `ElementLinks`.\n",
<<<<<<< HEAD
<<<<<<< HEAD
=======
>>>>>>> feecd8a (Add PHYSLITE material (#14))
    "\n",
    "When there is **one-to-one** correspondence between the objects of two collections, we can link those without the need to resolve the actual links. For our example, each object of the `Jets` collection is linked to one object of the `BTagging_AntiKt4EMPFlow` collection.\n",
    "\n",
<<<<<<< HEAD
    "We will write a function that is doing this linking. We will use the [`DL1dv01`](https://ftag.docs.cern.ch/algorithms/taggers/dl1/) flavour-tagging algorithm and information about its calibration can be found [here](https://ftag.docs.cern.ch/recommendations/algs/r22-preliminary/#working-point-definition-for-dl1dv01)."
>>>>>>> 861a44a (add draft text for ElementLinks)
=======
    "We will write a function to perform that linking. We will use the [DL1dv01](https://ftag.docs.cern.ch/algorithms/taggers/dl1/) flavour-tagging algorithm and information about its calibration can be found [here](https://ftag.docs.cern.ch/recommendations/algs/r22-preliminary/#working-point-definition-for-dl1dv01)."
>>>>>>> feecd8a (Add PHYSLITE material (#14))
=======
=======
=======
>>>>>>> 86c9406 (finalize EventLinks)
>>>>>>> bfe0a28 (finalize EventLinks)
    "\n",
    "When there is **one-to-one** correspondence between the objects of two collections, we can link those without the need to resolve the actual links. For our example, each object of the `Jets` collection is linked to one object of the `BTagging_AntiKt4EMPFlow` collection.\n",
    "\n",
<<<<<<< HEAD
    "We will write a function that is doing this linking. We will use the [`DL1dv01`](https://ftag.docs.cern.ch/algorithms/taggers/dl1/) flavour-tagging algorithm and information about its calibration can be found [here](https://ftag.docs.cern.ch/recommendations/algs/r22-preliminary/#working-point-definition-for-dl1dv01)."
>>>>>>> 861a44a (add draft text for ElementLinks)
<<<<<<< HEAD
>>>>>>> aeacb20 (add draft text for ElementLinks)
=======
=======
    "We will write a function to perform that linking. We will use the [DL1dv01](https://ftag.docs.cern.ch/algorithms/taggers/dl1/) flavour-tagging algorithm and information about its calibration can be found [here](https://ftag.docs.cern.ch/recommendations/algs/r22-preliminary/#working-point-definition-for-dl1dv01)."
>>>>>>> 86c9406 (finalize EventLinks)
>>>>>>> bfe0a28 (finalize EventLinks)
=======
>>>>>>> f32ef09 (finalize notebooks)
   ]
  },
  {
   "cell_type": "code",
<<<<<<< HEAD
<<<<<<< HEAD
<<<<<<< HEAD
<<<<<<< HEAD
<<<<<<< HEAD
<<<<<<< HEAD
<<<<<<< HEAD
   "execution_count": null,
=======
   "execution_count": 25,
>>>>>>> 861a44a (add draft text for ElementLinks)
=======
   "execution_count": null,
>>>>>>> feecd8a (Add PHYSLITE material (#14))
=======
=======
>>>>>>> f79dd9a (update notebook)
=======
>>>>>>> aeacb20 (add draft text for ElementLinks)
=======
>>>>>>> bfe0a28 (finalize EventLinks)
   "execution_count": null,
=======
   "execution_count": 14,
>>>>>>> efe3b47 (first notebook draft)
<<<<<<< HEAD
>>>>>>> e990756 (first notebook draft)
=======
=======
   "execution_count": 30,
>>>>>>> f33afd8 (update notebook)
<<<<<<< HEAD
>>>>>>> f79dd9a (update notebook)
=======
=======
=======
>>>>>>> 4256ba8 (finalize EventLinks)
   "execution_count": 30,
=======
   "execution_count": 25,
>>>>>>> 861a44a (add draft text for ElementLinks)
<<<<<<< HEAD
>>>>>>> 26e5a88 (add draft text for ElementLinks)
<<<<<<< HEAD
>>>>>>> aeacb20 (add draft text for ElementLinks)
=======
=======
=======
   "execution_count": null,
>>>>>>> 86c9406 (finalize EventLinks)
>>>>>>> 4256ba8 (finalize EventLinks)
>>>>>>> bfe0a28 (finalize EventLinks)
=======
   "execution_count": null,
>>>>>>> f32ef09 (finalize notebooks)
   "metadata": {},
   "outputs": [],
   "source": [
    "def calculate_jets_DL1dv01(events):\n",
    "    \n",
    "    BTagging = events.BTagging_AntiKt4EMPFlow\n",
    "    \n",
    "    f_c = 0.018\n",
    "    DL1dv01 = BTagging.DL1dv01_pb/(f_c*BTagging.DL1dv01_pc + (1-f_c)*BTagging.DL1dv01_pu)\n",
    "    DL1dv01 = np.log(DL1dv01)\n",
    "\n",
    "    return DL1dv01"
   ]
  },
  {
<<<<<<< HEAD
<<<<<<< HEAD
   "cell_type": "markdown",
   "metadata": {},
=======
   "cell_type": "code",
   "execution_count": 28,
   "metadata": {},
   "outputs": [
    {
     "data": {
      "text/plain": [
       "['pt', '_eventindex', 'eta', 'phi', 'm', 'btaggingLink', 'DL1dv01']"
      ]
     },
     "execution_count": 28,
     "metadata": {},
     "output_type": "execute_result"
    }
   ],
>>>>>>> 861a44a (add draft text for ElementLinks)
=======
   "cell_type": "markdown",
   "metadata": {},
>>>>>>> feecd8a (Add PHYSLITE material (#14))
   "source": [
    "We will use the above function to assign a new variable to the `Jets` collection. One can assign new variables to the arrays, with some caveats:\n",
    "\n",
    "* Assignment must use `events[\"path\", \"to\", \"name\"] = value`.\n",
    "* Assignment to a sliced events won't be accessible from the original variable."
   ]
  },
  {
   "cell_type": "code",
   "execution_count": null,
   "metadata": {},
   "outputs": [],
   "source": [
    "# assign new variable to the collection\n",
    "events['Jets', 'DL1dv01'] = calculate_jets_DL1dv01(events)\n",
    "\n",
    "events.Jets.fields"
   ]
  },
  {
<<<<<<< HEAD
<<<<<<< HEAD
   "cell_type": "markdown",
<<<<<<< HEAD
<<<<<<< HEAD
<<<<<<< HEAD
   "metadata": {},
   "source": [
    "Let's finally use the new variable to make a selection. We will plot the leading jet transverse momentum ($p_T$) for events that have at least one b-tagged jet at the 77% efficiency working point."
   ]
  },
  {
   "cell_type": "code",
   "execution_count": null,
   "metadata": {},
   "outputs": [],
   "source": [
=======
=======
>>>>>>> 4256ba8 (finalize EventLinks)
   "metadata": {},
   "source": [
    "Let's finally use the new variable to make a selection. We will plot the leading jet transverse momentum ($p_T$) for events that have at least one b-tagged jet at the 77% efficiency working point."
   ]
  },
  {
   "cell_type": "code",
<<<<<<< HEAD
   "execution_count": 32,
=======
   "execution_count": 36,
>>>>>>> 861a44a (add draft text for ElementLinks)
   "metadata": {},
   "outputs": [
    {
     "data": {
<<<<<<< HEAD
      "image/png": "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",
=======
      "image/png": "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",
>>>>>>> 861a44a (add draft text for ElementLinks)
      "text/plain": [
       "<Figure size 640x480 with 1 Axes>"
      ]
     },
     "metadata": {},
     "output_type": "display_data"
    }
   ],
   "source": [
>>>>>>> efe3b47 (first notebook draft)
    "# for events at least one b-jets at 77% WP\n",
<<<<<<< HEAD
    "selection_1bjet = ak.sum(events.Jets.DL1dv01 > 2.456, axis=-1) > 0\n",
    "\n",
    "# plot the leading jet pt\n",
=======
<<<<<<< HEAD
   "cell_type": "code",
   "execution_count": 36,
=======
   "cell_type": "markdown",
>>>>>>> feecd8a (Add PHYSLITE material (#14))
   "metadata": {},
   "source": [
    "Let's finally use the new variable to make a selection. We will plot the leading jet transverse momentum ($p_T$) for events that have at least one b-tagged jet at the 77% efficiency working point."
   ]
  },
  {
   "cell_type": "code",
   "execution_count": null,
   "metadata": {},
   "outputs": [],
   "source": [
    "# for events at least one b-jets at 77% WP\n",
    "selection_1bjet = ak.sum(events.Jets.DL1dv01 > 2.456, axis=-1) > 0\n",
<<<<<<< HEAD
>>>>>>> 861a44a (add draft text for ElementLinks)
=======
    "\n",
    "# plot the leading jet pt\n",
>>>>>>> feecd8a (Add PHYSLITE material (#14))
=======
    "# plot the jet pt\n",
    "\n",
    "selection_1bjet = ak.sum(events.Jets.DL1dv01 > 2.456, axis=-1) > 0\n",
>>>>>>> 861a44a (add draft text for ElementLinks)
<<<<<<< HEAD
>>>>>>> aeacb20 (add draft text for ElementLinks)
=======
=======
=======
>>>>>>> f32ef09 (finalize notebooks)
   "metadata": {},
   "source": [
    "Let's finally use the new variable to make a selection. We will plot the leading jet transverse momentum ($p_T$) for events that have at least one b-tagged jet at the 77% efficiency working point."
   ]
  },
  {
   "cell_type": "code",
   "execution_count": null,
   "metadata": {},
   "outputs": [],
   "source": [
    "# for events at least one b-jets at 77% WP\n",
    "selection_1bjet = ak.sum(events.Jets.DL1dv01 > 2.456, axis=-1) > 0\n",
    "\n",
    "# plot the leading jet pt\n",
<<<<<<< HEAD
>>>>>>> 86c9406 (finalize EventLinks)
>>>>>>> bfe0a28 (finalize EventLinks)
=======
>>>>>>> f32ef09 (finalize notebooks)
    "plt.hist((events.Jets[selection_1bjet][:, 0].pt/1000).compute(), bins=50, range=(0, 500))\n",
    "plt.xlabel(r\"$p_T(j_0)$ [GeV]\")\n",
    "plt.ylabel(\"Events\")\n",
    "plt.show()"
   ]
  }
 ],
 "metadata": {
  "kernelspec": {
   "display_name": "coffea_latest",
   "language": "python",
   "name": "python3"
  },
  "language_info": {
   "codemirror_mode": {
    "name": "ipython",
    "version": 3
   },
   "file_extension": ".py",
   "mimetype": "text/x-python",
   "name": "python",
   "nbconvert_exporter": "python",
   "pygments_lexer": "ipython3",
   "version": "3.11.9"
  }
 },
 "nbformat": 4,
 "nbformat_minor": 2
}
