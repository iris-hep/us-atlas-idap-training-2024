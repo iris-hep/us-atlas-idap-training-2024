{
 "cells": [
  {
   "cell_type": "markdown",
   "metadata": {},
   "source": [
    "<h1 style=\"text-align: center;\">\n",
    "    <img src=\"img/logo_servicex.png\" width=\"70\" height=\"70\"  style=\"float:left\" alt=\"ServiceX\">\n",
    "    <img src=\"img/logo_ut.png\" width=\"150\" height=\"100\"  style=\"float:right\" alt=\"UT Austin\">\n",
    "    ServiceX, the novel data delivery system\n",
    "</h1>"
   ]
  },
  {
   "cell_type": "markdown",
   "metadata": {},
   "source": [
    "<h4 style=\"text-align: center;\">KyungEon Choi (UT Austin) for ServiceX team (IRIS-HEP)</h4>\n",
    "\n",
    "<h4 style=\"text-align: center;\">IRIS-HEp Analysis Software Training Event (July 19, 2024)</h4>"
   ]
  },
  {
   "cell_type": "markdown",
   "metadata": {},
   "source": [
    "<br>\n",
    "\n",
    "</br>"
   ]
  },
  {
   "cell_type": "markdown",
   "metadata": {},
   "source": [
    "<h2>Data delivery? Data Access?</h2>"
   ]
  },
  {
   "cell_type": "markdown",
   "metadata": {},
   "source": [
    "<font size=\"3\">\n",
    "\n",
    "<br>\n",
    "\n",
    "<p style=\"text-align:center;\"> <img src=\"img/remote_data.png\"  width =\"600\" alt=\"ServiceX\"></p>\n",
    "\n",
    "- Data we want to process is often stored at remote storages; sometimes too large to store directly accessible storage or production chain made it available only at remote storage\n",
    "- There are couple of solutions\n",
    "    1. Transfer or download to a directly accessible storage (e.g. <font size=\"2\">`rucio get X`</font>)\n",
    "    2. Run ntuplizer on the grid to filter and select what user need (and more), and then download (e.g. TopCPToolkit)\n",
    "    3. Go to the machine which has access to the data (e.g. lxplus for eos storage access)\n",
    "\n"
   ]
  },
  {
   "cell_type": "markdown",
   "metadata": {},
   "source": [
    "<h2>What is ServiceX?</h2>"
   ]
  },
  {
   "cell_type": "markdown",
   "metadata": {},
   "source": [
    "<font size=\"3\">\n",
    "    \n",
    "- A component of IRIS-HEP DOMA (Data Organization, Management And Access)\n",
    "- A scalable data extraction and delivery service\n",
    "- Deployed in a Kubernetes cluster"
   ]
  },
  {
   "cell_type": "markdown",
   "metadata": {},
   "source": [
    "<h3>ServiceX under the hood</h3>\n",
    "<p style=\"text-align:center;\"> <img src=\"img/ServiceXDiagram2.png\" width=\"1200\" alt=\"ServiceX\"></p>"
   ]
  },
  {
   "cell_type": "markdown",
   "metadata": {},
   "source": [
    "<font size=\"3\">\n",
    "\n",
    "- <b><span style=\"color:#FF6E33;\">Event data</span></b>\n",
    "    - ServiceX delivers from grid or remote XRootD storage to the user. Or more precisely ServiceX writes into an object store (ServiceX internal storage) and users download files or URLs from the object store as soon as available.\n",
    "    - Thickness of arrows reflect the amount of data over a wire. ServiceX is NOT designed to download full data from grids. Transformers effectively reduce data that will be delivered to user based on a query for selection and filtering.\n",
    "    - ServiceX is often co-located with a grid site to maximize network bandwith. XCache is preferable to allow much faster read for frequently accessed datasets.\n",
    "- <b><span style=\"color:red;\">Transformer</span></b>\n",
    "    - Extracts what user wants\n",
    "    - ServiceX consists of multiple microservices that are deployed as static K8s pod (always \"running\" state) but transformers are dynamically created via HPA (Horizontal Pod Scaling)\n",
    "    - A transformer pod runs on a file at a time and number of transformer pods are scaled up and down depending on the number of input files in the dataset and other criteria\n",
    "- <b>ServiceX Request</b>\n",
    "    - ServiceX request(s) is(are) made from the <span style=\"color:blue;\">SerivceX client libary</span> to ServiceX Web API via HTTP request\n",
    "    - A ServiceX request takes one input dataset (or list of files) and ServiceX is happily scale transformer pods automatically. A dataset with a single file should work but it's much more desirable to utilize HPA.\n",
    "    - Users can make ServiceX request anywhere only with Python ServiceX client library and <font size=\"2\"><code>servicex.yaml</code></font> includes an access token. Thus it's perfectly fine to deliver data to a university cluster or a laptop for small tests.\n",
    "\n",
    "<br>"
   ]
  },
  {
   "cell_type": "markdown",
   "metadata": {},
   "source": [
    "<h3>ServiceX Webpage</h3>\n",
    "<font size=\"3\">\n",
    "    \n",
    "- Download a ServiceX configuration file (<font size=\"2\"><code>servicex.yaml</code></font>) from the ServiceX website and copy to your home or working  directory \n",
    "- NOTE: the ServiceX endpoint <font size=\"2\"><code>servicex.af.uchicago.edu</code></font> is limited to the ATLAS users as it provides an access to the ATLAS event data\n",
    "\n",
    "<p style=\"text-align:center;\"><img src=\"img/servicex_web.png\" width=\"900\" alt=\"ServiceX Web\"></p>\n",
    "\n",
    "<br>\n",
    "\n",
    "\n",
    "</br>"
   ]
  },
  {
   "cell_type": "markdown",
   "metadata": {},
   "source": [
    "<h2>ServiceX Client library</h2>"
   ]
  },
  {
   "cell_type": "markdown",
   "metadata": {},
   "source": [
    "<font size=\"3\">\n",
    "\n",
    "ServiceX Client library is a python library for users to communicate with ServiceX backend (or server) to make delivery requests and handling of outputs"
   ]
  },
  {
   "cell_type": "markdown",
   "metadata": {},
   "source": [
    "<font size=\"3\">\n",
    "\n",
    "<b>Installation</b><br />\n",
    "- <font size=\"2\"><code>pip install servicex==3.0.0.alpha.18</code></font>"
   ]
  },
  {
   "cell_type": "code",
   "execution_count": 10,
   "metadata": {},
   "outputs": [
    {
     "name": "stdout",
     "output_type": "stream",
     "text": [
      "servicex                         3.0.0a18\n"
     ]
    }
   ],
   "source": [
    "# !pip install servicex==3.0.0.alpha.18\n",
    "!pip list | grep servicex"
   ]
  },
  {
   "cell_type": "markdown",
   "metadata": {},
   "source": [
    "<br>\n",
    "<br>"
   ]
  },
  {
   "cell_type": "markdown",
   "metadata": {},
   "source": [
    "<h3>First ServiceX request</h3>\n",
    "\n",
    "<!-- <font size=\"3\">\n",
    "Let's begin with the basic: <br>\n",
    "<span style=\"margin-left:30px\">Deliver a branch (or column) from a dataset in the grid</span> -->"
   ]
  },
  {
   "cell_type": "markdown",
   "metadata": {},
   "source": [
    "<font size=\"3\">\n",
    "\n",
    "<b>The most fundamental compenents of a ServiceX request</b>\n",
    "1. Dataset\n",
    "1. Query - describe what a user wants to run in transformers"
   ]
  },
  {
   "cell_type": "code",
   "execution_count": 1,
   "metadata": {},
   "outputs": [],
   "source": [
    "import servicex"
   ]
  },
  {
   "cell_type": "code",
   "execution_count": 2,
   "metadata": {},
   "outputs": [],
   "source": [
    "spec = {\n",
    "    \"Sample\":[{\n",
    "        \"Name\": \"UprootRaw\",\n",
    "        \"Dataset\": servicex.dataset.Rucio(\"user.kchoi.pyhep2024.test_dataset\"),\n",
    "        \"Query\": servicex.query.UprootRaw({\"treename\": \"nominal\", \"filter_name\": \"el_pt\"})\n",
    "    }]\n",
    "}"
   ]
  },
  {
   "cell_type": "markdown",
   "metadata": {},
   "source": [
    "<font size=\"3\">\n",
    "    \n",
    "- One sample named \"UprootRaw\" is defined in the <font size=\"2\"><code>spec</code></font> object.\n",
    "- A Rucio dataset is specified\n",
    "- Defined a <font size=\"2\">`Query`</font>, sent to transformers and run on all files in the given Rucio dataset\n",
    "- <font size=\"2\">`UprootRaw`</font> query takes <font size=\"2\">`\"treename\"`</font> to set <font size=\"2\">`TTree`</font> in flat ROOT ntuples and <font size=\"2\">`\"filter_name\"`</font> to select branches in a given tree"
   ]
  },
  {
   "cell_type": "markdown",
   "metadata": {},
   "source": [
    "<font size=\"3\">\n",
    "Let's deliver my ServiceX request"
   ]
  },
  {
   "cell_type": "code",
   "execution_count": 3,
   "metadata": {},
   "outputs": [
    {
     "data": {
      "application/vnd.jupyter.widget-view+json": {
       "model_id": "86c6f4cec8994841a397cb164e4be9f1",
       "version_major": 2,
       "version_minor": 0
      },
      "text/plain": [
       "Output()"
      ]
     },
     "metadata": {},
     "output_type": "display_data"
    },
    {
     "data": {
      "text/html": [
       "<pre style=\"white-space:pre;overflow-x:auto;line-height:normal;font-family:Menlo,'DejaVu Sans Mono',consolas,'Courier New',monospace\"></pre>\n"
      ],
      "text/plain": []
     },
     "metadata": {},
     "output_type": "display_data"
    },
    {
     "data": {
      "text/html": [
       "<pre style=\"white-space:pre;overflow-x:auto;line-height:normal;font-family:Menlo,'DejaVu Sans Mono',consolas,'Courier New',monospace\">\n",
       "</pre>\n"
      ],
      "text/plain": [
       "\n"
      ]
     },
     "metadata": {},
     "output_type": "display_data"
    }
   ],
   "source": [
    "o = servicex.deliver(spec)"
   ]
  },
  {
   "cell_type": "code",
   "execution_count": 4,
   "metadata": {},
   "outputs": [
    {
     "data": {
      "text/plain": [
       "2"
      ]
     },
     "execution_count": 4,
     "metadata": {},
     "output_type": "execute_result"
    }
   ],
   "source": [
    "len(o['UprootRaw'])"
   ]
  },
  {
   "cell_type": "markdown",
   "metadata": {},
   "source": [
    "<font size=\"3\">\n",
    "Returns a dictionary"
   ]
  },
  {
   "cell_type": "code",
   "execution_count": 5,
   "metadata": {},
   "outputs": [
    {
     "name": "stdout",
     "output_type": "stream",
     "text": [
      "Sample.Name: dict_keys(['UprootRaw_PyHEP'])\n",
      "\n",
      "Fileset: <class 'list'>\n",
      "\n",
      "First file: /Users/kc43627/Work/data/servicex_cache/ea8df16b-cb87-41d0-b13e-75aa9ffe2eb7/root___fax.mwt2.org_1094__pnfs_uchicago.edu_atlaslocalgroupdisk_rucio_user_mgeyik_9f_05_user.mgeyik.30183079._000005.out.root\n",
      "\n"
     ]
    }
   ],
   "source": [
    "print(f\"Sample.Name: {o.keys()}\\n\")\n",
    "print(f\"Fileset: {type(o['UprootRaw'])}\\n\")\n",
    "print(f\"First file: {(o['UprootRaw'][0])}\\n\")"
   ]
  },
  {
   "cell_type": "code",
   "execution_count": 8,
   "metadata": {},
   "outputs": [],
   "source": [
    "!pip list | grep uproot"
   ]
  },
  {
   "cell_type": "code",
   "execution_count": 9,
   "metadata": {},
   "outputs": [
    {
     "data": {
      "text/html": [
       "<pre>[[7.43e+04, 4.29e+04],\n",
       " [8.71e+04, 6.79e+04],\n",
       " [],\n",
       " [],\n",
       " [6.24e+04],\n",
       " [],\n",
       " [4.28e+04, 1.04e+04],\n",
       " [1.89e+05],\n",
       " [6.08e+04],\n",
       " [9.08e+04],\n",
       " ...,\n",
       " [9.92e+04],\n",
       " [8.48e+04],\n",
       " [],\n",
       " [3.76e+04, 1.68e+04],\n",
       " [4.65e+04, 3.51e+04],\n",
       " [],\n",
       " [1e+05, 1.23e+04],\n",
       " [3.65e+04],\n",
       " [5.86e+04]]\n",
       "---------------------------\n",
       "type: 11082 * var * float32</pre>"
      ],
      "text/plain": [
       "<Array [[7.43e+04, 4.29e+04], ..., [5.86e+04]] type='11082 * var * float32'>"
      ]
     },
     "execution_count": 9,
     "metadata": {},
     "output_type": "execute_result"
    }
   ],
   "source": [
    "import uproot\n",
    "\n",
    "with uproot.open(o['UprootRaw'][0]) as f:\n",
    "    column = f['nominal']['el_pt']\n",
    "column.array()"
   ]
  },
  {
   "cell_type": "markdown",
   "metadata": {},
   "source": [
    "<font size=\"3\">\n",
    "Only few lines of a python script brings the data you want from the grid!\n",
    "\n",
    "<br></br>\n",
    "\n",
    "Let me go through what kinds of `Dataset` and `Query` are supported by ServiceX"
   ]
  },
  {
   "cell_type": "markdown",
   "metadata": {},
   "source": [
    "<h3>Dataset</h3>"
   ]
  },
  {
   "cell_type": "markdown",
   "metadata": {},
   "source": [
    "<font size=\"3\">\n",
    "ServiceX supports Rucio, XRootD, and CERN OpenDataset"
   ]
  },
  {
   "cell_type": "code",
   "execution_count": 8,
   "metadata": {},
   "outputs": [
    {
     "data": {
      "text/plain": [
       "<function servicex.dataset_identifier.RucioDatasetIdentifier.__init__(self, dataset: str, num_files: Optional[int] = None)>"
      ]
     },
     "execution_count": 8,
     "metadata": {},
     "output_type": "execute_result"
    }
   ],
   "source": [
    "servicex.dataset.Rucio.__init__"
   ]
  },
  {
   "cell_type": "code",
   "execution_count": 9,
   "metadata": {},
   "outputs": [
    {
     "data": {
      "text/plain": [
       "<function servicex.dataset_identifier.FileListDataset.__init__(self, files: Union[List[str], str])>"
      ]
     },
     "execution_count": 9,
     "metadata": {},
     "output_type": "execute_result"
    }
   ],
   "source": [
    "servicex.dataset.FileList.__init__"
   ]
  },
  {
   "cell_type": "code",
   "execution_count": 10,
   "metadata": {},
   "outputs": [
    {
     "data": {
      "text/plain": [
       "<function servicex.dataset_identifier.CERNOpenDataDatasetIdentifier.__init__(self, dataset: int, num_files: Optional[int] = None)>"
      ]
     },
     "execution_count": 10,
     "metadata": {},
     "output_type": "execute_result"
    }
   ],
   "source": [
    "servicex.dataset.CERNOpenData.__init__"
   ]
  },
  {
   "cell_type": "code",
   "execution_count": 12,
   "metadata": {},
   "outputs": [],
   "source": [
    "eos_file = servicex.dataset.FileList([\"root://eosuser.cern.ch//eos/atlas/atlascerngroupdisk/phys-higgs/HSG1/MxAOD/h028/mc16e/Nominal/mc16e.PowhegPy8_bbH125.MxAODDetailedNoSkim.e6050_s3126_r10724_p4180_h028.root\"])"
   ]
  },
  {
   "cell_type": "code",
   "execution_count": 13,
   "metadata": {},
   "outputs": [],
   "source": [
    "spec_eos = {\n",
    "    \"Sample\":[\n",
    "        {\n",
    "            \"Name\": \"UprootRaw_eos\",\n",
    "            \"Dataset\": eos_file,\n",
    "            \"Query\": servicex.query.UprootRaw({\"treename\": \"CollectionTree\", \"filter_name\": \"HGamEventInfoAuxDyn.HT_30\"})\n",
    "            # \"IgnoreLocalCache\": True\n",
    "        }    \n",
    "    ]\n",
    "}"
   ]
  },
  {
   "cell_type": "markdown",
   "metadata": {},
   "source": [
    "<br></br>"
   ]
  },
  {
   "cell_type": "markdown",
   "metadata": {},
   "source": [
    "<h3>Query</h3>\n",
    "\n",
    "<font size=\"3\">\n",
    "<ul>\n",
    "    <li>Query is a representation of what user wants from input dataset. e.g.</li>\n",
    "    <ul>\n",
    "        <li><font size=\"2\"><code>UprootRaw({\"treename\": \"nominal\", \"filter_name\": \"el_pt\"})</code></font></li>\n",
    "    </ul>\n",
    "    <li>User provided query is translated into a code that runs on transformers</li>\n",
    "    <li>Query is input data format dependent as a code for flat ROOT ntuple differs from the one for Apache parquet</li>\n",
    "    <!-- <li>ServiceX supports ROOT ntuples, ATLAS xAOD, CMS Run-1 AOD as an input format</li> -->\n",
    "    <!-- <li>Current version of client library supports query languages   (though other query classes are registered)</li> -->\n",
    "    <!-- <li>Current version of client library supports query classes for ROOT ntuples at the moment</li> -->\n",
    "</ul>\n",
    "</font>"
   ]
  },
  {
   "cell_type": "code",
   "execution_count": 4,
   "metadata": {},
   "outputs": [
    {
     "data": {
      "text/plain": [
       "[EntryPoint(name='FuncADL_ATLASr21', value='servicex.func_adl.func_adl_dataset:FuncADLQuery_ATLASr21', group='servicex.query'),\n",
       " EntryPoint(name='FuncADL_ATLASr22', value='servicex.func_adl.func_adl_dataset:FuncADLQuery_ATLASr22', group='servicex.query'),\n",
       " EntryPoint(name='FuncADL_ATLASxAOD', value='servicex.func_adl.func_adl_dataset:FuncADLQuery_ATLASxAOD', group='servicex.query'),\n",
       " EntryPoint(name='FuncADL_CMS', value='servicex.func_adl.func_adl_dataset:FuncADLQuery_CMS', group='servicex.query'),\n",
       " EntryPoint(name='FuncADL_Uproot', value='servicex.func_adl.func_adl_dataset:FuncADLQuery_Uproot', group='servicex.query'),\n",
       " EntryPoint(name='PythonFunction', value='servicex.python_dataset:PythonQuery', group='servicex.query'),\n",
       " EntryPoint(name='UprootRaw', value='servicex.uproot_raw.uproot_raw:UprootRawQuery', group='servicex.query')]"
      ]
     },
     "execution_count": 4,
     "metadata": {},
     "output_type": "execute_result"
    }
   ],
   "source": [
    "servicex.query.plugins"
   ]
  },
  {
   "cell_type": "markdown",
   "metadata": {},
   "source": [
    "<font size=\"3\">\n",
    "\n",
    "<br>\n",
    "<b>Query classes for ROOT ntuples (via Uproot)</b>"
   ]
  },
  {
   "cell_type": "markdown",
   "metadata": {},
   "source": [
    "<font size=\"3\">\n",
    "\n",
    "<code>UprootRaw</code> Query\n",
    "- This is a new query language, essentially calling <font size=\"2\">`uproot.tree.arrays()`</font> function\n",
    "- A UprootRaw query can be a dictionary or a list of dictionaries\n",
    "- There are two types of operations a user can put in a dictionary\n",
    "    - query: contains a  <font size=\"2\">`treename`</font> key\n",
    "    - copy: contains a  <font size=\"2\">`copy_histograms`</font> key"
   ]
  },
  {
   "cell_type": "markdown",
   "metadata": {},
   "source": [
    "<font size=\"2\">    \n",
    "    <pre>\n",
    "        <code class=\"python\">\n",
    "query = [\n",
    "         {\n",
    "          'treename': 'reco', \n",
    "          'filter_name': ['/mu.*/', 'runNumber', 'lbn', 'jet_pt_*'], \n",
    "          'cut':'(count_nonzero(jet_pt_NOSYS>40e3, axis=1)>=4)'\n",
    "         },\n",
    "         {\n",
    "          'copy_histograms': ['CutBookkeeper*', '/cflow.*/', 'metadata', 'listOfSystematics']\n",
    "         }\n",
    "        ]\n",
    "        </code>\n",
    "    </pre>\n",
    "</font>\n"
   ]
  },
  {
   "cell_type": "markdown",
   "metadata": {},
   "source": [
    "<font size=\"3\">\n",
    "\n",
    "- More details on the grammar can be found [here](https://servicex-frontend.readthedocs.io/en/latest/transformer_matrix.html)"
   ]
  },
  {
   "cell_type": "code",
   "execution_count": 2,
   "metadata": {},
   "outputs": [],
   "source": [
    "query_UprootRaw = servicex.query.UprootRaw({\"treename\": \"nominal\", \"filter_name\": \"el_pt\"})"
   ]
  },
  {
   "cell_type": "markdown",
   "metadata": {},
   "source": [
    "<font size=\"3\">\n",
    "\n",
    "<br>\n",
    "\n",
    "<code>FuncADL_Uproot</code> Query\n",
    "- Functional Analysis Description Language is a powerful query language that has been supported by ServiceX\n",
    "- In addition to the basic operations like <font size=\"2\">`Select()`</font> for column selection or <font size=\"2\">`Where()`</font> for filtering, more sophisticated query can be built\n",
    "- One new addition <font size=\"2\">`FromTree()`</font> method to set a tree name in a query\n",
    "- More details can be found at the [talk](https://indico.cern.ch/event/1019958/timetable/#31-funcadl-functional-analysis) by M. Proffitt at PyHEP 2021"
   ]
  },
  {
   "cell_type": "code",
   "execution_count": 3,
   "metadata": {},
   "outputs": [],
   "source": [
    "query_FuncADL = servicex.query.FuncADL_Uproot().FromTree('nominal').Select(lambda e: {'el_pt': e['el_pt']})"
   ]
  },
  {
   "cell_type": "markdown",
   "metadata": {},
   "source": [
    "<font size=\"3\">\n",
    "\n",
    "<br>\n",
    "\n",
    "<code>PythonFunction</code> Query\n",
    "- Python function can be passed as a query\n",
    "- <font size=\"2\">`uproot`</font>, <font size=\"2\">`awkward`</font>, <font size=\"2\">`vector`</font> can be imported (limited by the transformer image)\n",
    "- Primarily experimental purpose and likely to be discontinued"
   ]
  },
  {
   "cell_type": "code",
   "execution_count": 4,
   "metadata": {},
   "outputs": [],
   "source": [
    "def run_query(input_filenames=None):\n",
    "    import uproot\n",
    "    with uproot.open({input_filenames: \"nominal\"}) as o:\n",
    "        br = o.arrays(\"el_pt\")\n",
    "    return br\n",
    "\n",
    "query_PythonFunction = servicex.query.PythonFunction().with_uproot_function(run_query)"
   ]
  },
  {
   "cell_type": "markdown",
   "metadata": {},
   "source": [
    "<font size=\"3\">\n",
    "All three queries return the same output, ROOT files with selected branch <font size=\"2\"><code>el_pt_NOSYS</code></font>!\n",
    "\n",
    "<br></br>"
   ]
  },
  {
   "cell_type": "markdown",
   "metadata": {},
   "source": [
    "<h3>Multiple samples</h3>\n",
    "\n",
    "<font size=\"3\">\n",
    "\n",
    "- HEP analysis often needs more than one sample"
   ]
  },
  {
   "cell_type": "code",
   "execution_count": 10,
   "metadata": {},
   "outputs": [],
   "source": [
    "spec_multiple = {\n",
    "    \"Sample\":[\n",
    "        {\n",
    "            \"Name\": \"UprootRaw\",\n",
    "            \"Dataset\": servicex.dataset.Rucio(\"user.kchoi.pyhep2024.test_dataset\"),\n",
    "            \"Query\": query_UprootRaw,\n",
    "        },\n",
    "        {\n",
    "            \"Name\": \"FuncADL_Uproot\",\n",
    "            \"Dataset\": servicex.dataset.Rucio(\"user.kchoi.pyhep2024.test_dataset\"),\n",
    "            \"Query\": query_FuncADL,\n",
    "        },\n",
    "        {\n",
    "            \"Name\": \"PythonFunction\",\n",
    "            \"Dataset\": servicex.dataset.Rucio(\"user.kchoi.pyhep2024.test_dataset\"),\n",
    "            \"Query\": query_PythonFunction,\n",
    "        }\n",
    "    ]\n",
    "}"
   ]
  },
  {
   "cell_type": "markdown",
   "metadata": {},
   "source": [
    "<font size=\"3\">\n",
    "\n",
    "- <font size=\"2\">`Sample`</font> block is a list of dictionaries, each with a <font size=\"2\">`Dataset`</font> - <font size=\"2\">`Query`</font> pair\n",
    "- Client library makes one ServiceX request per <font size=\"2\">`Dataset`</font> - <font size=\"2\">`Query`</font> pair\n",
    "- Again, it's preferred to have more files in a request to utilize K8s HPA than having multiple requests for the same query"
   ]
  },
  {
   "cell_type": "code",
   "execution_count": 11,
   "metadata": {},
   "outputs": [
    {
     "data": {
      "application/vnd.jupyter.widget-view+json": {
       "model_id": "c6346bf7b7c54f33a65d597a8c195f67",
       "version_major": 2,
       "version_minor": 0
      },
      "text/plain": [
       "Output()"
      ]
     },
     "metadata": {},
     "output_type": "display_data"
    },
    {
     "data": {
      "text/html": [
       "<pre style=\"white-space:pre;overflow-x:auto;line-height:normal;font-family:Menlo,'DejaVu Sans Mono',consolas,'Courier New',monospace\"></pre>\n"
      ],
      "text/plain": []
     },
     "metadata": {},
     "output_type": "display_data"
    },
    {
     "data": {
      "text/html": [
       "<pre style=\"white-space:pre;overflow-x:auto;line-height:normal;font-family:Menlo,'DejaVu Sans Mono',consolas,'Courier New',monospace\">\n",
       "</pre>\n"
      ],
      "text/plain": [
       "\n"
      ]
     },
     "metadata": {},
     "output_type": "display_data"
    }
   ],
   "source": [
    "o_multiple = servicex.deliver(spec_multiple, servicex_name=\"testing1\")"
   ]
  },
  {
   "cell_type": "markdown",
   "metadata": {},
   "source": [
    "<br></br>"
   ]
  },
  {
   "cell_type": "markdown",
   "metadata": {},
   "source": [
    "<h3>YAML interface</h3>"
   ]
  },
  {
   "cell_type": "markdown",
   "metadata": {},
   "source": [
    "<font size=\"3\">\n",
    "\n",
    "- It's cool to deliver only interested columns from grid storages in a Jupyter notebook, but real analysis often becomes quite messy\n",
    "- A YAML file represents all of your data in your analysis and easily share with your colleague\n",
    "- The new client library brings <font size=\"2\">`servicex-databinder`</font> and significantly improve user interface to allow a seamless experience with YAML"
   ]
  },
  {
   "cell_type": "code",
   "execution_count": 21,
   "metadata": {},
   "outputs": [
    {
     "name": "stdout",
     "output_type": "stream",
     "text": [
      "Writing config_UprootRaw.yaml\n"
     ]
    }
   ],
   "source": [
    "%%writefile -a config_UprootRaw.yaml\n",
    "\n",
    "Sample:\n",
    "  - Name: Uproot_UprootRaw_YAML\n",
    "    Dataset: !Rucio user.kchoi.pyhep2024.test_dataset\n",
    "    Query: !UprootRaw |\n",
    "        {\"treename\":\"nominal\", \"filter_name\": \"el_pt\"}"
   ]
  },
  {
   "cell_type": "markdown",
   "metadata": {},
   "source": [
    "<font size=\"3\">\n",
    "Compare with the one in this notebook"
   ]
  },
  {
   "cell_type": "markdown",
   "metadata": {},
   "source": [
    "```python\n",
    "\"Sample\":[{\n",
    "    \"Name\": \"UprootRaw_PyHEP\",\n",
    "    \"Dataset\": Rucio(\"user.kchoi.pyhep2024.test_dataset\"),\n",
    "    \"Query\": UprootRaw({\"treename\": \"nominal\", \"filter_name\": \"el_pt\"})\n",
    "}]\n",
    "```"
   ]
  },
  {
   "cell_type": "code",
   "execution_count": 23,
   "metadata": {},
   "outputs": [],
   "source": [
    "from servicex import deliver"
   ]
  },
  {
   "cell_type": "code",
   "execution_count": 24,
   "metadata": {},
   "outputs": [
    {
     "data": {
      "application/vnd.jupyter.widget-view+json": {
       "model_id": "95809b3b4f854cec937c5c7b18c21d7a",
       "version_major": 2,
       "version_minor": 0
      },
      "text/plain": [
       "Output()"
      ]
     },
     "metadata": {},
     "output_type": "display_data"
    },
    {
     "data": {
      "text/html": [
       "<pre style=\"white-space:pre;overflow-x:auto;line-height:normal;font-family:Menlo,'DejaVu Sans Mono',consolas,'Courier New',monospace\"></pre>\n"
      ],
      "text/plain": []
     },
     "metadata": {},
     "output_type": "display_data"
    },
    {
     "data": {
      "text/html": [
       "<pre style=\"white-space:pre;overflow-x:auto;line-height:normal;font-family:Menlo,'DejaVu Sans Mono',consolas,'Courier New',monospace\">\n",
       "</pre>\n"
      ],
      "text/plain": [
       "\n"
      ]
     },
     "metadata": {},
     "output_type": "display_data"
    }
   ],
   "source": [
    "o_yaml = deliver(\"config_UprootRaw.yaml\")"
   ]
  },
  {
   "cell_type": "markdown",
   "metadata": {},
   "source": [
    "<font size=\"3\">\n",
    "\n",
    "YAML syntax\n",
    "- The exclamation mark(!), yaml tag, to declare dataset type and query type (see detail on the [PyYAML constructor](https://matthewpburruss.com/post/yaml/))\n",
    "    - Dataset tags: <font size=\"2\">`!Rucio`</font>, <font size=\"2\">`!Rucio`</font>, <font size=\"2\">`!FileList`</font>, <font size=\"2\">`!CERNOpenData`</font>\n",
    "    - Query tags: <font size=\"2\">`!UprootRaw`</font>, <font size=\"2\">`!FuncADL_Uproot`</font>, <font size=\"2\">`!PythonFunction`</font>\n",
    "- The pipe (`|`) after query tag represents the literal operator and allows to properly interpret multi-line string\n",
    "\n",
    "<br></br>"
   ]
  },
  {
   "cell_type": "markdown",
   "metadata": {},
   "source": [
    "<h3>Optional configurations</h3>"
   ]
  },
  {
   "cell_type": "markdown",
   "metadata": {},
   "source": [
    "<font size=\"3\">\n",
    "\n",
    "- `General` block\n",
    "    - Optional block\n",
    "    - By default <font size=\"2\">`OutputFormat: root-file`</font>\n",
    "    - <font size=\"2\">`parquet`</font> is supported as <font size=\"2\">`OutputFormat`</font> for uproot queries\n",
    "    - By default <font size=\"2\">`Delivery: LocalCache`</font> &rarr; files are downloaded to your local cache directory<sup>1</sup>\n",
    "    - Or <font size=\"2\">`Delivery: SignedURLs`</font> only returns ServiceX object-store URLs &rarr; user can consume data directly from the ServiceX object-store\n",
    "- `Sample` block\n",
    "    - <font size=\"2\">`NFiles`</font> to set number of files you want to run in the given Rucio dataset\n",
    "- `Definition` block\n",
    "    - Repeated long values can be replaced by setting YAML anchors, e.g. the same query for multiple samples\n",
    "    - One constraint is the anchor (<font size=\"2\">`&`</font>) needs to be defined prior to the alias (<font size=\"2\">`*`</font>)\n",
    "\n",
    "<font size=\"2\"><sup>1</sup>The local cache path can be set in the `servicex.yaml` file: `cache_path: /X/Y`</font>\n",
    "\n",
    "<br>\n",
    "\n",
    "Example YAML:\n",
    "</font>\n",
    "\n",
    "```yaml\n",
    "Definition:\n",
    "  - &DEF_ggH_input \"root://eospublic.cern.ch//eos/opendata/atlas/OutreachDatasets\\\n",
    "                  /2020-01-22/4lep/MC/mc_345060.ggH125_ZZ4lep.4lep.root\"\n",
    "\n",
    "  - &DEF_query1 !PythonFunction |\n",
    "    def run_query(input_filenames=None):\n",
    "        import uproot\n",
    "\n",
    "        with uproot.open({input_filenames:\"nominal\"}) as o:\n",
    "            br = o.arrays(\"mu_pt\")\n",
    "        return br\n",
    "\n",
    "  - &DEF_query2 !FuncADL_Uproot  |\n",
    "    FromTree('mini').Select(lambda e: {'lep_pt': e['lep_pt']}).Where(lambda e: e['lep_pt'] > 1000)\n",
    "\n",
    "General:\n",
    "  OutputFormat: parquet\n",
    "  Delivery: SignedURLs\n",
    "\n",
    "Sample:\n",
    "  - Name: ttH\n",
    "    Dataset: !Rucio user.kchoi.fcnc_tHq_ML.ttH.v11\n",
    "    Query: *DEF_query1\n",
    "    NFiles: 5\n",
    "\n",
    "  - Name: ttZ\n",
    "    Dataset: !Rucio user.kchoi.fcnc_tHq_ML.ttZ.v11    \n",
    "    Query: *DEF_query1\n",
    "    NFiles: 3\n",
    "\n",
    "  - Name: ggH\n",
    "    Dataset: !FileList *DEF_ggH_input\n",
    "    Query: *DEF_query2\n",
    "```\n",
    "\n",
    "<br>"
   ]
  },
  {
   "cell_type": "markdown",
   "metadata": {},
   "source": [
    "<h3>Failed transformation</h3>"
   ]
  },
  {
   "cell_type": "code",
   "execution_count": 25,
   "metadata": {},
   "outputs": [],
   "source": [
    "spec_typo = {\n",
    "    \"Sample\":[{\n",
    "        \"Name\": \"UprootRaw_failed\",\n",
    "        \"Dataset\": Rucio(\"user.kchoi.pyhep2024.test_dataset\"),\n",
    "        \"Query\": UprootRaw({\"treename\": \"nominal\", \"filter_name\": \"el_pta\"})\n",
    "    }]\n",
    "}"
   ]
  },
  {
   "cell_type": "code",
   "execution_count": 26,
   "metadata": {},
   "outputs": [
    {
     "data": {
      "application/vnd.jupyter.widget-view+json": {
       "model_id": "60b9c1ea32da4ec496ecb1785eb75074",
       "version_major": 2,
       "version_minor": 0
      },
      "text/plain": [
       "Output()"
      ]
     },
     "metadata": {},
     "output_type": "display_data"
    },
    {
     "data": {
      "text/html": [
       "<pre style=\"white-space:pre;overflow-x:auto;line-height:normal;font-family:Menlo,'DejaVu Sans Mono',consolas,'Courier New',monospace\"><span style=\"color: #7fbfbf; text-decoration-color: #7fbfbf\">[07/01/24 00:13:17] </span><span style=\"color: #800000; text-decoration-color: #800000\">WARNING </span> Transform <span style=\"color: #008000; text-decoration-color: #008000\">\"UprootRaw_PyHEP\"</span> completed with failures: <span style=\"color: #008080; text-decoration-color: #008080; font-weight: bold\">3</span>/<span style=\"color: #008080; text-decoration-color: #008080; font-weight: bold\">3</span> files       <a href=\"file:///opt/miniconda3/envs/pyhep/lib/python3.10/site-packages/servicex/query_core.py\" target=\"_blank\"><span style=\"color: #7f7f7f; text-decoration-color: #7f7f7f\">query_core.py</span></a><span style=\"color: #7f7f7f; text-decoration-color: #7f7f7f\">:</span><a href=\"file:///opt/miniconda3/envs/pyhep/lib/python3.10/site-packages/servicex/query_core.py#215\" target=\"_blank\"><span style=\"color: #7f7f7f; text-decoration-color: #7f7f7f\">215</span></a>\n",
       "<span style=\"color: #7fbfbf; text-decoration-color: #7fbfbf\">                    </span>         failed                                                               <span style=\"color: #7f7f7f; text-decoration-color: #7f7f7f\">                 </span>\n",
       "</pre>\n"
      ],
      "text/plain": [
       "\u001b[2;36m[07/01/24 00:13:17]\u001b[0m\u001b[2;36m \u001b[0m\u001b[31mWARNING \u001b[0m Transform \u001b[32m\"UprootRaw_PyHEP\"\u001b[0m completed with failures: \u001b[1;36m3\u001b[0m/\u001b[1;36m3\u001b[0m files       \u001b]8;id=567884;file:///opt/miniconda3/envs/pyhep/lib/python3.10/site-packages/servicex/query_core.py\u001b\\\u001b[2mquery_core.py\u001b[0m\u001b]8;;\u001b\\\u001b[2m:\u001b[0m\u001b]8;id=82617;file:///opt/miniconda3/envs/pyhep/lib/python3.10/site-packages/servicex/query_core.py#215\u001b\\\u001b[2m215\u001b[0m\u001b]8;;\u001b\\\n",
       "\u001b[2;36m                    \u001b[0m         failed                                                               \u001b[2m                 \u001b[0m\n"
      ]
     },
     "metadata": {},
     "output_type": "display_data"
    },
    {
     "data": {
      "text/html": [
       "<pre style=\"white-space:pre;overflow-x:auto;line-height:normal;font-family:Menlo,'DejaVu Sans Mono',consolas,'Courier New',monospace\"><span style=\"color: #7fbfbf; text-decoration-color: #7fbfbf\">                    </span><span style=\"color: #800000; text-decoration-color: #800000\">WARNING </span> More information of <span style=\"color: #008000; text-decoration-color: #008000\">'UprootRaw_PyHEP'</span> <a href=\"https://atlas-kibana.mwt2.org:5601/s/servicex/app/dashboards?auth_provider_hint=anonymous1#/view/6d069520-f34e-11ed-a6d8-9f6a16cd6d78?embed=true&_g=(time:(from:now-30d%2Fd,to:now))&_a=(filters:!((query:(match_phrase:(requestId:'ab736b6d-d3d9-439a-8734-ed3ba9276540'))),(query:(match_phrase:(level:'error')))))&show-time-filter=true&hide-filter-bar=true\" target=\"_blank\"><span style=\"color: #800000; text-decoration-color: #800000; background-color: #c0c0c0; font-weight: bold\">HERE</span></a>                           <a href=\"file:///opt/miniconda3/envs/pyhep/lib/python3.10/site-packages/servicex/query_core.py\" target=\"_blank\"><span style=\"color: #7f7f7f; text-decoration-color: #7f7f7f\">query_core.py</span></a><span style=\"color: #7f7f7f; text-decoration-color: #7f7f7f\">:</span><a href=\"file:///opt/miniconda3/envs/pyhep/lib/python3.10/site-packages/servicex/query_core.py#226\" target=\"_blank\"><span style=\"color: #7f7f7f; text-decoration-color: #7f7f7f\">226</span></a>\n",
       "</pre>\n"
      ],
      "text/plain": [
       "\u001b[2;36m                   \u001b[0m\u001b[2;36m \u001b[0m\u001b[31mWARNING \u001b[0m More information of \u001b[32m'UprootRaw_PyHEP'\u001b[0m \u001b]8;id=479336;https://atlas-kibana.mwt2.org:5601/s/servicex/app/dashboards?auth_provider_hint=anonymous1#/view/6d069520-f34e-11ed-a6d8-9f6a16cd6d78?embed=true&_g=(time:(from:now-30d%2Fd,to:now))&_a=(filters:!((query:(match_phrase:(requestId:'ab736b6d-d3d9-439a-8734-ed3ba9276540'))),(query:(match_phrase:(level:'error')))))&show-time-filter=true&hide-filter-bar=true\u001b\\\u001b[1;31;47mHERE\u001b[0m\u001b]8;;\u001b\\                           \u001b]8;id=178926;file:///opt/miniconda3/envs/pyhep/lib/python3.10/site-packages/servicex/query_core.py\u001b\\\u001b[2mquery_core.py\u001b[0m\u001b]8;;\u001b\\\u001b[2m:\u001b[0m\u001b]8;id=210571;file:///opt/miniconda3/envs/pyhep/lib/python3.10/site-packages/servicex/query_core.py#226\u001b\\\u001b[2m226\u001b[0m\u001b]8;;\u001b\\\n"
      ]
     },
     "metadata": {},
     "output_type": "display_data"
    },
    {
     "data": {
      "text/html": [
       "<pre style=\"white-space:pre;overflow-x:auto;line-height:normal;font-family:Menlo,'DejaVu Sans Mono',consolas,'Courier New',monospace\"></pre>\n"
      ],
      "text/plain": []
     },
     "metadata": {},
     "output_type": "display_data"
    },
    {
     "data": {
      "text/html": [
       "<pre style=\"white-space:pre;overflow-x:auto;line-height:normal;font-family:Menlo,'DejaVu Sans Mono',consolas,'Courier New',monospace\">\n",
       "</pre>\n"
      ],
      "text/plain": [
       "\n"
      ]
     },
     "metadata": {},
     "output_type": "display_data"
    }
   ],
   "source": [
    "o = deliver(spec_typo)"
   ]
  },
  {
   "cell_type": "markdown",
   "metadata": {},
   "source": [
    "<br></br>"
   ]
  },
  {
   "cell_type": "markdown",
   "metadata": {},
   "source": [
    "<h2>Use case</h2>"
   ]
  },
  {
   "cell_type": "code",
   "execution_count": null,
   "metadata": {},
   "outputs": [],
   "source": []
  },
  {
   "cell_type": "code",
   "execution_count": null,
   "metadata": {},
   "outputs": [],
   "source": []
  },
  {
   "cell_type": "code",
   "execution_count": null,
   "metadata": {},
   "outputs": [],
   "source": []
  },
  {
   "cell_type": "markdown",
   "metadata": {},
   "source": [
    "<h2>Future plans</h2>"
   ]
  },
  {
   "cell_type": "markdown",
   "metadata": {},
   "source": [
    "<font size=\"3\">\n",
    "\n",
    "<br>\n",
    "\n",
    "<b>Client library</b>\n",
    "- Migrate ATLAS FuncADL queries\n",
    "- Improve robustness: progress bar (transform status/object store access) and local caching\n",
    "- Readthedoc of the new ServiceX cilent library is under construction! https://servicex-frontend.readthedocs.io/en/latest/index.html\n",
    "\n",
    "<b>ServiceX backend</b>\n",
    "- Improve stability and robustness of ServiceX especially from what learned during 200Gbps challenge\n",
    "- Server-side caching\n",
    "- Add new ServiceX transformers: ATLAS TopCPToolkit transformer (WIP), column-join transformer, ATLAS columnar CP transformer?"
   ]
  },
  {
   "cell_type": "code",
   "execution_count": null,
   "metadata": {},
   "outputs": [],
   "source": []
  }
 ],
 "metadata": {
  "kernelspec": {
   "display_name": "Python 3 (ipykernel)",
   "language": "python",
   "name": "python3"
  },
  "language_info": {
   "codemirror_mode": {
    "name": "ipython",
    "version": 3
   },
   "file_extension": ".py",
   "mimetype": "text/x-python",
   "name": "python",
   "nbconvert_exporter": "python",
   "pygments_lexer": "ipython3",
   "version": "3.10.14"
  }
 },
 "nbformat": 4,
 "nbformat_minor": 4
}
