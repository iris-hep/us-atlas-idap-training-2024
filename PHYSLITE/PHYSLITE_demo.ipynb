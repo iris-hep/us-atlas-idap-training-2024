{
 "cells": [
  {
   "cell_type": "markdown",
   "metadata": {},
   "source": [
    "# Reading PHYSLITE files using the `PHYSLITESchema`"
   ]
  },
  {
   "cell_type": "markdown",
   "metadata": {},
   "source": [
    "`NanoEvents` is a `coffea` utility to wrap NTuple structures (such as the ATLAS PHYSLITE format) into a single awkward array with appropriate object methods (such as Lorentz vector methods), cross references, and nested objects. All are by default accessed in delayed* mode from the input ROOT TTree via `uproot`.  \n",
    "\n",
    "The interpretation of the TTree data is configurable via schema objects, which are community-supplied for various input file types. Relevant schemas for this training:\n",
    "1. `BaseSchema`, which provides a simple representation of the input TTree, where each branch is available verbatim as `events.branch_name`. Any branches that `uproot` supports at \"full speed\" (i.e. that are fully split and either flat or single-jagged) can be read by this schema.\n",
    "2. `PHYSLITESchema`, for the ATLAS PHYSLITE derivations.\n",
    "\n",
    "The schema code, along with their specialized methods, can be found here: https://github.com/CoffeaTeam/coffea/tree/master/src/coffea/nanoevents\n",
    "\n",
    "\\* _delayed_ access refers to only fetching the needed data from the file when you're ready to compute the needed quantities. Until then, a minimal amount of metadata is used to trace the operations to eventually be performed (frequently called \"lazy\" evaluation).\n",
    "\n",
    "In this demo we will read the content of a PHYSLITE file using the `PHYSLITESchema`. The usage and benefits of the schema will be demonstrated."
   ]
  },
  {
   "cell_type": "code",
<<<<<<< HEAD
   "execution_count": null,
=======
   "execution_count": 17,
>>>>>>> f33afd8 (update notebook)
   "metadata": {},
   "outputs": [],
   "source": [
    "import coffea\n",
    "print(\"coffea version: \", coffea.__version__)\n",
    "import awkward as ak\n",
    "print(\"awkward version: \", ak.__version__)\n",
    "from coffea.nanoevents import NanoEventsFactory, PHYSLITESchema\n",
    "import numpy as np\n",
    "import matplotlib.pyplot as plt"
   ]
  },
  {
   "cell_type": "markdown",
   "metadata": {},
   "source": [
    "Let's load a PHYSLITE file containing simulated event data describing the production the Higgs boson and its decay via a pair of Z bosons to a four lepton final state. Those data are part of the recent ATLAS open data release and can be found at DOI:[10.7483/OPENDATA.ATLAS.Z2J9.709J](http://doi.org/10.7483/OPENDATA.ATLAS.Z2J9.709J).\n",
    "\n",
    "More information about our data release at [this article](https://atlas.cern/Updates/News/Open-Data-Research) and the ATLAS open data portal: https://opendata.atlas.cern/\n",
    "\n",
    "You can download those files at your local machine or you can stream them directly."
   ]
  },
  {
   "cell_type": "code",
<<<<<<< HEAD
   "execution_count": null,
=======
   "execution_count": 18,
>>>>>>> f33afd8 (update notebook)
   "metadata": {},
   "outputs": [],
   "source": [
    "# Hgg -> 4l sample\n",
    "\n",
    "# local\n",
<<<<<<< HEAD
<<<<<<< HEAD
<<<<<<< HEAD
    "# file_path = '/Users/ekourlitis/cernbox/mc20_13TeV.345060.PowhegPythia8EvtGen_NNLOPS_nnlo_30_ggH125_ZZ4l.deriv.DAOD_PHYSLITE.e7735_s3681_r13167_p6026/mc20_13TeV/DAOD_PHYSLITE.38191712._000020.pool.root.1'\n",
=======
    "file_path = '/Users/ekourlitis/cernbox/mc20_13TeV.345060.PowhegPythia8EvtGen_NNLOPS_nnlo_30_ggH125_ZZ4l.deriv.DAOD_PHYSLITE.e7735_s3681_r13167_p6026/mc20_13TeV/DAOD_PHYSLITE.38191712._000020.pool.root.1'\n",
>>>>>>> feecd8a (Add PHYSLITE material (#14))
=======
=======
>>>>>>> f79dd9a (update notebook)
    "file_path = '/Users/ekourlitis/cernbox/mc20_13TeV.345060.PowhegPythia8EvtGen_NNLOPS_nnlo_30_ggH125_ZZ4l.deriv.DAOD_PHYSLITE.e7735_s3681_r13167_p6026/mc20_13TeV/DAOD_PHYSLITE.38191712._000020.pool.root.1'\n",
=======
    "# file_path = '/Users/ekourlitis/cernbox/mc20_13TeV.345060.PowhegPythia8EvtGen_NNLOPS_nnlo_30_ggH125_ZZ4l.deriv.DAOD_PHYSLITE.e7735_s3681_r13167_p6026/mc20_13TeV/DAOD_PHYSLITE.38191712._000020.pool.root.1'\n",
>>>>>>> efe3b47 (first notebook draft)
<<<<<<< HEAD
>>>>>>> e990756 (first notebook draft)
=======
=======
    "file_path = '/Users/ekourlitis/cernbox/mc20_13TeV.345060.PowhegPythia8EvtGen_NNLOPS_nnlo_30_ggH125_ZZ4l.deriv.DAOD_PHYSLITE.e7735_s3681_r13167_p6026/mc20_13TeV/DAOD_PHYSLITE.38191712._000020.pool.root.1'\n",
>>>>>>> f33afd8 (update notebook)
>>>>>>> f79dd9a (update notebook)
    "\n",
    "# stream\n",
    "# file_path = \"root://eospublic.cern.ch//eos/opendata/atlas/rucio/mc20_13TeV/DAOD_PHYSLITE.38191712._000001.pool.root.1\""
   ]
  },
  {
   "cell_type": "markdown",
   "metadata": {},
   "source": [
    "To make the loading lighter, we will use the `filter_name` function, in order to load only the variables needed. Then we will use `coffea`'s `NanoEventsFactory.from_root` to load the file. Consider looking at the [`from_root`](https://coffeateam.github.io/coffea/api/coffea.nanoevents.NanoEventsFactory.html#coffea.nanoevents.NanoEventsFactory.from_root) class method to see all optional arguments.\n",
    "\n",
    "All the variables stored in the open data PHYSLITE files are listed in: https://atlas-physlite-content-opendata.web.cern.ch/. For your reference, the equivalent internal webpage for general PHYSLITE files is: https://atlas-physlite-content.web.cern.ch/.\n",
    "\n",
    "_Some warnings will appear as we're still working with `uproot` and the `PHYSLITESchema` to correctly interpret all the variables stored in PHYSLITE._"
   ]
  },
  {
   "cell_type": "code",
<<<<<<< HEAD
<<<<<<< HEAD
<<<<<<< HEAD
=======
>>>>>>> f79dd9a (update notebook)
   "execution_count": null,
=======
   "execution_count": 7,
>>>>>>> 861a44a (add draft text for ElementLinks)
=======
   "execution_count": null,
>>>>>>> feecd8a (Add PHYSLITE material (#14))
   "metadata": {},
   "outputs": [],
=======
   "execution_count": 19,
   "metadata": {},
   "outputs": [
    {
     "name": "stderr",
     "output_type": "stream",
     "text": [
      "/opt/miniconda3/envs/coffea_latest/lib/python3.11/site-packages/coffea/util.py:234: UserWarning: Skipping xTrigDecisionAux.xAOD::AuxInfoBase as it is not interpretable by Uproot\n",
      "  warnings.warn(\n",
      "/opt/miniconda3/envs/coffea_latest/lib/python3.11/site-packages/coffea/util.py:234: UserWarning: Skipping METAssoc_AnalysisMETAux.xAOD::AuxContainerBase as it is not interpretable by Uproot\n",
      "  warnings.warn(\n",
      "/opt/miniconda3/envs/coffea_latest/lib/python3.11/site-packages/coffea/util.py:234: UserWarning: Skipping AntiKt10TruthSoftDropBeta100Zcut10JetsAux.xAOD::AuxContainerBase as it is not interpretable by Uproot\n",
      "  warnings.warn(\n",
      "/opt/miniconda3/envs/coffea_latest/lib/python3.11/site-packages/coffea/util.py:234: UserWarning: Skipping AntiKt10UFOCSSKJetsAux.xAOD::AuxContainerBase as it is not interpretable by Uproot\n",
      "  warnings.warn(\n",
      "/opt/miniconda3/envs/coffea_latest/lib/python3.11/site-packages/coffea/util.py:234: UserWarning: Skipping AntiKt4TruthDressedWZJetsAux.xAOD::AuxContainerBase as it is not interpretable by Uproot\n",
      "  warnings.warn(\n",
      "/opt/miniconda3/envs/coffea_latest/lib/python3.11/site-packages/coffea/util.py:234: UserWarning: Skipping EventInfoAuxDyn.hardScatterVertexLink as it is not interpretable by Uproot\n",
      "  warnings.warn(\n"
     ]
    }
   ],
>>>>>>> f33afd8 (update notebook)
   "source": [
    "# load in memory\n",
    "\n",
    "def filter_name(name):\n",
    "    '''\n",
    "    Load only the variables needed.\n",
    "    '''\n",
    "    return name in [\n",
    "        \"EventInfoAuxDyn.mcEventWeights\",\n",
    "        \n",
    "        \"AnalysisElectronsAuxDyn.pt\",\n",
    "        \"AnalysisElectronsAuxDyn.eta\",\n",
    "        \"AnalysisElectronsAuxDyn.phi\",\n",
    "        \"AnalysisElectronsAuxDyn.m\",\n",
    "        \n",
    "        \"AnalysisMuonsAuxDyn.pt\",\n",
    "        \"AnalysisMuonsAuxDyn.eta\",\n",
    "        \"AnalysisMuonsAuxDyn.phi\",\n",
    "        \"AnalysisMuonsAuxDyn.m\",\n",
    "        \n",
    "        \"AnalysisJetsAuxDyn.pt\",\n",
    "        \"AnalysisJetsAuxDyn.eta\",\n",
    "        \"AnalysisJetsAuxDyn.phi\",\n",
    "        \"AnalysisJetsAuxDyn.m\",\n",
    "        \"AnalysisJetsAuxDyn.btaggingLink\",\n",
    "        \n",
    "        \"BTagging_AntiKt4EMPFlowAuxDyn.DL1dv01_pb\",\n",
    "        \"BTagging_AntiKt4EMPFlowAuxDyn.DL1dv01_pc\",\n",
    "        \"BTagging_AntiKt4EMPFlowAuxDyn.DL1dv01_pu\",\n",
    "    ]\n",
    "\n",
    "events = NanoEventsFactory.from_root(\n",
    "    {file_path: \"CollectionTree\"}, # all the event variables are stored in the TTree called CollectionTree\n",
    "    schemaclass=PHYSLITESchema, # tell NanoEventsFactory.from_root that you read a PHYSLITE file\n",
    "    uproot_options=dict(filter_name=filter_name)\n",
    ").events()"
   ]
  },
  {
   "cell_type": "markdown",
   "metadata": {},
   "source": [
<<<<<<< HEAD
<<<<<<< HEAD
    "The `events` object is an awkward array, which at its top level is a record array with one record for each \"collection\" (or \"container\"), where a collection is a grouping of variables (TBranches) based on the naming conventions of `PHYSLITESchema`. For example, in the file we opened there are the collections:"
=======
    "The `events` object is an awkward array, which at its top level is a record array with one record for each \"collection\" (or \"container\"), where a collection is a grouping of properties (TBranches) based on the naming conventions of `PHYSLITESchema`. For example, in the file we opened there are the collections:"
>>>>>>> 861a44a (add draft text for ElementLinks)
=======
    "The `events` object is an awkward array, which at its top level is a record array with one record for each \"collection\" (or \"container\"), where a collection is a grouping of variables (TBranches) based on the naming conventions of `PHYSLITESchema`. For example, in the file we opened there are the collections:"
>>>>>>> feecd8a (Add PHYSLITE material (#14))
   ]
  },
  {
   "cell_type": "code",
<<<<<<< HEAD
<<<<<<< HEAD
<<<<<<< HEAD
=======
>>>>>>> f79dd9a (update notebook)
   "execution_count": null,
   "metadata": {},
   "outputs": [],
=======
   "execution_count": 20,
   "metadata": {},
   "outputs": [
    {
     "data": {
      "text/plain": [
       "['Electrons', 'Jets', 'BTagging_AntiKt4EMPFlow', 'EventInfo', 'Muons']"
      ]
     },
     "execution_count": 20,
     "metadata": {},
     "output_type": "execute_result"
    }
   ],
<<<<<<< HEAD
>>>>>>> 861a44a (add draft text for ElementLinks)
=======
   "execution_count": null,
   "metadata": {},
   "outputs": [],
>>>>>>> feecd8a (Add PHYSLITE material (#14))
=======
>>>>>>> f33afd8 (update notebook)
>>>>>>> f79dd9a (update notebook)
   "source": [
    "events.fields"
   ]
  },
  {
   "cell_type": "markdown",
   "metadata": {},
   "source": [
    "For each collection, we can list the variables that have been loaded. For example, let's look at the variables of the `Electrons`:"
   ]
  },
  {
   "cell_type": "code",
<<<<<<< HEAD
   "execution_count": null,
=======
   "execution_count": 21,
>>>>>>> f33afd8 (update notebook)
   "metadata": {},
<<<<<<< HEAD
   "outputs": [],
=======
   "outputs": [
    {
     "data": {
      "text/plain": [
       "['pt', '_eventindex', 'eta', 'phi', 'm']"
      ]
     },
     "execution_count": 21,
     "metadata": {},
     "output_type": "execute_result"
    }
   ],
>>>>>>> efe3b47 (first notebook draft)
   "source": [
    "events.Electrons.fields"
   ]
  },
  {
   "cell_type": "markdown",
   "metadata": {},
   "source": [
    "The data in a PHYSLITE file are highly structured but jagged. In other words, in each event there are different number of objects in each collection, thus the awkward arrays are not rectilinear but _awkward_. We can see that if we actually request to compute the objects of the `Electrons` collection.\n",
    "\n",
    "_This is the first time we will call the `compute()` method. Actual number crunching is happening here!_"
   ]
  },
  {
   "cell_type": "code",
<<<<<<< HEAD
   "execution_count": null,
=======
   "execution_count": 22,
>>>>>>> f33afd8 (update notebook)
   "metadata": {},
<<<<<<< HEAD
   "outputs": [],
=======
   "outputs": [
    {
     "data": {
      "text/html": [
       "<pre>[[{pt: 6.98e+03, _eventindex: 0, eta: -1.74, phi: -1.78, m: 0.511}],\n",
       " [],\n",
       " [],\n",
       " [],\n",
       " [Electron, ...],\n",
       " [Electron, ..., Electron],\n",
       " [Electron, Electron],\n",
       " [],\n",
       " [],\n",
       " [{pt: 2.02e+04, _eventindex: 9, eta: -0.571, phi: -0.453, m: 0.511}],\n",
       " ...,\n",
       " [{pt: 5.69e+04, _eventindex: 39991, eta: 1.55, phi: 0.442, m: 0.511}],\n",
       " [],\n",
       " [],\n",
       " [],\n",
       " [],\n",
       " [{pt: 1.35e+04, _eventindex: 39996, eta: -2.37, phi: 0.725, m: 0.511}],\n",
       " [{pt: 4.44e+03, _eventindex: 39997, eta: -0.85, phi: 2.78, m: 0.511}],\n",
       " [Electron, ...],\n",
       " [{pt: 2.8e+04, _eventindex: 39999, eta: -2.18, phi: 2.7, m: 0.511}]]\n",
       "------------------------------------------------------------------------\n",
       "type: 40000 * var * electron</pre>"
      ],
      "text/plain": [
       "<ElectronArray [[{pt: 6.98e+03, ...}], ..., [{...}]] type='40000 * var * el...'>"
      ]
     },
     "execution_count": 22,
     "metadata": {},
     "output_type": "execute_result"
    }
   ],
>>>>>>> efe3b47 (first notebook draft)
   "source": [
    "events.Electrons.compute()"
   ]
  },
  {
   "cell_type": "markdown",
   "metadata": {},
   "source": [
    "## Slicing"
   ]
  },
  {
   "cell_type": "markdown",
   "metadata": {},
   "source": [
    "One of the most common operations you will found yourself doing is event selection or array _slicing_. We can practice this by first defining an awkward (boolean) array by a logical operation. Then we can use this array as an argument to slice our events.\n",
    "\n",
    "For example, let's request events with at least two electrons:"
   ]
  },
  {
   "cell_type": "code",
<<<<<<< HEAD
   "execution_count": null,
=======
   "execution_count": 23,
>>>>>>> f33afd8 (update notebook)
   "metadata": {},
<<<<<<< HEAD
   "outputs": [],
=======
   "outputs": [
    {
     "data": {
      "text/html": [
       "<pre>[{Electrons: [Electron, ...], Jets: [Particle, ...], ...},\n",
       " {Electrons: [Electron, ...], Jets: [Particle, ...], ...},\n",
       " {Electrons: [Electron, ...], Jets: [Particle, ...], ...},\n",
       " {Electrons: [Electron, ...], Jets: [Particle, ...], ...},\n",
       " {Electrons: [Electron, ...], Jets: [Particle, ...], ...},\n",
       " {Electrons: [Electron, ...], Jets: [Particle, ...], ...},\n",
       " {Electrons: [Electron, ...], Jets: [Particle, ...], ...},\n",
       " {Electrons: [Electron, ...], Jets: [Particle, ...], ...},\n",
       " {Electrons: [Electron, ...], Jets: [Particle, ...], ...},\n",
       " {Electrons: [Electron, ...], Jets: [Particle, ...], ...},\n",
       " ...,\n",
       " {Electrons: [Electron, ...], Jets: [Particle, ...], ...},\n",
       " {Electrons: [Electron, ...], Jets: [Particle, ...], ...},\n",
       " {Electrons: [Electron, ...], Jets: [Particle, ...], ...},\n",
       " {Electrons: [Electron, ...], Jets: [Particle, ...], ...},\n",
       " {Electrons: [Electron, ...], Jets: [Particle, ...], ...},\n",
       " {Electrons: [Electron, ...], Jets: [Particle, ...], ...},\n",
       " {Electrons: [Electron, ...], Jets: [Particle, ...], ...},\n",
       " {Electrons: [Electron, ...], Jets: [Particle, ...], ...},\n",
       " {Electrons: [Electron, ...], Jets: [Particle, ...], ...}]\n",
       "----------------------------------------------------------\n",
       "type: 20423 * event</pre>"
      ],
      "text/plain": [
       "<NanoEventsArray [{Electrons: [...], Jets: ..., ...}, ...] type='20423 * event'>"
      ]
     },
     "execution_count": 23,
     "metadata": {},
     "output_type": "execute_result"
    }
   ],
>>>>>>> efe3b47 (first notebook draft)
   "source": [
    "# define boolean array\n",
    "selection_2e = ak.num(events.Electrons, axis=-1) > 1\n",
    "\n",
    "# print the selected events\n",
    "events[selection_2e].compute()"
   ]
  },
  {
   "cell_type": "markdown",
   "metadata": {},
   "source": [
    "Notice how the number of events in the awkward array has been reduced."
   ]
  },
  {
   "cell_type": "code",
<<<<<<< HEAD
   "execution_count": null,
=======
   "execution_count": 24,
>>>>>>> f33afd8 (update notebook)
   "metadata": {},
<<<<<<< HEAD
   "outputs": [],
=======
   "outputs": [
    {
     "data": {
      "text/html": [
       "<pre>{Electrons: [Electron, ...],\n",
       " Jets: [Particle, ...],\n",
       " BTagging_AntiKt4EMPFlow: [{DL1dv01_pu: 0.542, _eventindex: 5, ...}, ...],\n",
       " EventInfo: [{mcEventWeights: 28.5, _eventindex: 5}, {...}, ..., {...}, {...}],\n",
       " Muons: []}\n",
       "-------------------------------------------------------------------------------\n",
       "type: event</pre>"
      ],
      "text/plain": [
       "<NanoEventsRecord {Electrons: [Electron, ...], Jets: [...], ...} type='event'>"
      ]
     },
     "execution_count": 24,
     "metadata": {},
     "output_type": "execute_result"
    }
   ],
>>>>>>> efe3b47 (first notebook draft)
   "source": [
    "# print the second of the selected events\n",
    "events[selection_2e][1].compute()"
   ]
  },
  {
   "cell_type": "code",
<<<<<<< HEAD
   "execution_count": null,
=======
   "execution_count": 25,
>>>>>>> f33afd8 (update notebook)
   "metadata": {},
<<<<<<< HEAD
   "outputs": [],
=======
   "outputs": [
    {
     "data": {
      "text/html": [
       "<pre>[4.64e+04,\n",
       " 3.96e+04,\n",
       " 2.36e+04,\n",
       " 5.93e+04,\n",
       " 5.15e+04,\n",
       " 2.76e+04,\n",
       " 4.05e+04,\n",
       " 5.1e+04,\n",
       " 5.79e+04,\n",
       " 3.46e+04,\n",
       " ...,\n",
       " 9.33e+04,\n",
       " 3.99e+04,\n",
       " 1.12e+04,\n",
       " 5.05e+04,\n",
       " 1.27e+04,\n",
       " 5.03e+04,\n",
       " 5.2e+04,\n",
       " 5.51e+04,\n",
       " 2.11e+04]\n",
       "---------------------------------------------------------------------------\n",
       "type: 20423 * float32[parameters={&quot;__doc__&quot;: &quot;AnalysisElectronsAuxDyn.pt&quot;}]</pre>"
      ],
      "text/plain": [
       "<Array [4.64e+04, 3.96e+04, ..., 2.11e+04] type='20423 * float32[parameters...'>"
      ]
     },
     "execution_count": 25,
     "metadata": {},
     "output_type": "execute_result"
    }
   ],
>>>>>>> efe3b47 (first notebook draft)
   "source": [
    "# print the leading electron pt of the selected events\n",
    "events.Electrons[selection_2e][:, 0].pt.compute() # in MeV\n",
    "# events[selection_2e][:, \"Electrons\"][:, \"pt\"][:, 0].compute() # another uglier way to write this"
   ]
  },
  {
<<<<<<< HEAD
   "cell_type": "code",
<<<<<<< HEAD
   "execution_count": null,
=======
   "execution_count": 26,
>>>>>>> f33afd8 (update notebook)
   "metadata": {},
   "outputs": [],
   "source": [
    "events.Electrons.pt"
   ]
  },
  {
   "cell_type": "markdown",
   "metadata": {},
   "source": [
    "Next, we will demonstrate something more complicated. This is an example of the power of the schemas along with vector operations*. We will use a utility method [`delta_r`](https://coffeateam.github.io/coffea/api/coffea.nanoevents.methods.vector.LorentzVector.html#coffea.nanoevents.methods.vector.LorentzVector.delta_r) to calculate the distance $\\Delta R = \\sqrt{\\Delta\\eta^2+\\Delta\\phi^2}$ between two LorentzVector objects. In particular, we will calculate the distance between the leading and sub-leading electrons in each event. Of course, we need to make use we use events that have at least two electrons, thus we will utilize the `selection_2e` from above.\n",
    "\n",
    "To plot a histogram we will just use `matplotlib` for the moment. You might also want to try the [`hist`](https://github.com/scikit-hep/hist) library which you will learn about this afternoon:\n",
    "\n",
    "https://indico.cern.ch/event/1376945/timetable/?view=standard#33-introduction-to-hist\n",
    "\n",
    "_\\* `coffea` still uses the internal [`coffea.nanoevents.methods.vector`](https://coffeateam.github.io/coffea/modules/coffea.nanoevents.methods.vector.html) but it will soon switch to the [`vector`](https://github.com/scikit-hep/vector) library, which will hopefully be feature-compatible._"
   ]
  },
  {
=======
>>>>>>> efe3b47 (first notebook draft)
   "cell_type": "code",
   "execution_count": null,
   "metadata": {},
<<<<<<< HEAD
   "outputs": [],
=======
   "outputs": [
    {
     "data": {
      "text/plain": [
       "dask.awkward<pt, npartitions=1>"
      ]
     },
     "execution_count": 26,
     "metadata": {},
     "output_type": "execute_result"
    }
   ],
   "source": [
    "events.Electrons.pt"
   ]
  },
  {
   "cell_type": "markdown",
   "metadata": {},
   "source": [
    "Next, we will demonstrate something more complicated. This is an example of the power of the schemas along with vector operations*. We will use a utility method [`delta_r`](https://coffeateam.github.io/coffea/api/coffea.nanoevents.methods.vector.LorentzVector.html#coffea.nanoevents.methods.vector.LorentzVector.delta_r) to calculate the distance $\\Delta R = \\sqrt{\\Delta\\eta^2+\\Delta\\phi^2}$ between two LorentzVector objects. In particular, we will calculate the distance between the leading and sub-leading electrons in each event. Of course, we need to make use we use events that have at least two electrons, thus we will utilize the `selection_2e` from above.\n",
    "\n",
    "To plot a histogram we will just use `matplotlib` for the moment. You might also want to try the [`hist`](https://github.com/scikit-hep/hist) library which you will learn about this afternoon:\n",
    "\n",
    "https://indico.cern.ch/event/1376945/timetable/?view=standard#33-introduction-to-hist\n",
    "\n",
    "_\\* `coffea` still uses the internal [`coffea.nanoevents.methods.vector`](https://coffeateam.github.io/coffea/modules/coffea.nanoevents.methods.vector.html) but it will soon switch to the [`vector`](https://github.com/scikit-hep/vector) library, which will hopefully be feature-compatible._"
   ]
  },
  {
   "cell_type": "code",
   "execution_count": 27,
   "metadata": {},
   "outputs": [
    {
     "data": {
      "image/png": "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",
      "text/plain": [
       "<Figure size 640x480 with 1 Axes>"
      ]
     },
     "metadata": {},
     "output_type": "display_data"
    }
   ],
>>>>>>> efe3b47 (first notebook draft)
   "source": [
    "# distance between leading and sub-leading electron in every event\n",
    "dr = events.Electrons[selection_2e][:, 0].delta_r(events.Electrons[selection_2e][:, 1])\n",
    "\n",
    "# compute and plot\n",
    "plt.hist(dr.compute(), bins=50, range=(0, 5))\n",
    "plt.xlabel(r\"$\\Delta R(e_0, e_1)$\")\n",
    "plt.ylabel(\"Events\")\n",
    "plt.show()"
   ]
  },
  {
   "cell_type": "markdown",
   "metadata": {},
   "source": [
    "Let's now use the schema to calculate the invariant mass of a group of particles. In particular, calculate and plot the invariant mass of the four leading electrons of each event."
   ]
  },
  {
   "cell_type": "markdown",
   "metadata": {},
   "source": [
    "<details>\n",
    "<summary><b>Hint</b></summary>\n",
    "\n",
    "Use the [mass](https://coffeateam.github.io/coffea/api/coffea.nanoevents.methods.vector.LorentzVector.html#coffea.nanoevents.methods.vector.LorentzVector.mass) attribute.\n",
    "</details>"
   ]
  },
  {
   "cell_type": "code",
<<<<<<< HEAD
<<<<<<< HEAD
   "execution_count": null,
=======
   "execution_count": 12,
>>>>>>> efe3b47 (first notebook draft)
=======
   "execution_count": 28,
>>>>>>> f33afd8 (update notebook)
   "metadata": {},
   "outputs": [],
   "source": [
    "# your code here"
   ]
  },
  {
   "cell_type": "markdown",
   "metadata": {},
   "source": [
    "<details>\n",
    "<summary><b>Answer</b></summary>\n",
    "\n",
    "```python\n",
    "# define boolean array to select events with 4 electrons\n",
    "selection_4e = ak.num(events.Electrons, axis=-1) == 4\n",
    "\n",
    "# calculate the invariant mass of the 4 electrons\n",
    "mass = (events.Electrons[selection_4e][:, 0] + \n",
    "        events.Electrons[selection_4e][:, 1] + \n",
    "        events.Electrons[selection_4e][:, 2] + \n",
    "        events.Electrons[selection_4e][:, 3]).mass\n",
    "\n",
    "# compute and plot\n",
    "plt.hist((mass/1000).compute(), bins=10, range=(100, 150))\n",
    "plt.xlabel(r\"$m(4e)$ [GeV]\")\n",
    "plt.ylabel(\"Events\")\n",
    "plt.show()\n",
    "```\n",
    "</details>"
   ]
  },
  {
   "cell_type": "markdown",
   "metadata": {},
   "source": [
    "## Element Links"
   ]
  },
  {
   "cell_type": "markdown",
   "metadata": {},
   "source": [
<<<<<<< HEAD
<<<<<<< HEAD
    "Some collections contain information which is contextually relevant to another collection. For example, in PHYSLITE files we store the `BTagging_AntiKt4EMPFlow` collection which contains information regarding the probabilities of the flavour origin of the objects of the `Jets` collection.\n",
    "\n",
    "The information is referenced and accessed by the `ElementLinks`. `ElementLinks` are like pointers that help point to specific objects in a collection. They have a structure similar to a Python dictionary with a key (`m_persKey`) to identify the collection they point to and a value (`m_persIndex`) to identify the index of the element in that collection. \n",
    "\n",
    "On the above example, each object of the `Jets` collection (i.e. each jet) holds a variable called `btaggingLink`, which points to the objects of the `BTagging_AntiKt4EMPFlow` collection. The index is used to identify which exactly `BTagging_AntiKt4EMPFlow` object corresponds to each jet."
=======
    "Some collections contain information which is contextually linked to another collection. For example, in PHYSLITE files we store the `BTagging_AntiKt4EMPFlow` collection which contains information regarding the flavour-tag scores of the objects of the `Jets` collection.\n",
=======
    "Some collections contain information which is contextually relevant to another collection. For example, in PHYSLITE files we store the `BTagging_AntiKt4EMPFlow` collection which contains information regarding the probabilities of the flavour origin of the objects of the `Jets` collection.\n",
>>>>>>> feecd8a (Add PHYSLITE material (#14))
    "\n",
    "The information is referenced and accessed by the `ElementLinks`. `ElementLinks` are like pointers that help point to specific objects in a collection. They have a structure similar to a Python dictionary with a key (`m_persKey`) to identify the collection they point to and a value (`m_persIndex`) to identify the index of the element in that collection. \n",
    "\n",
<<<<<<< HEAD
    "On the above example, each object of the `Jets` collection (i.e. each jet) holds a property called `btaggingLink`. This property looks like a dictionary of `m_persKey : m_persIndex` key-value pairs. `m_persKey` is used to identify which collection and `m_persIndex` which object of that collection is linked to each jet."
>>>>>>> 861a44a (add draft text for ElementLinks)
=======
    "On the above example, each object of the `Jets` collection (i.e. each jet) holds a variable called `btaggingLink`, which points to the objects of the `BTagging_AntiKt4EMPFlow` collection. The index is used to identify which exactly `BTagging_AntiKt4EMPFlow` object corresponds to each jet."
>>>>>>> feecd8a (Add PHYSLITE material (#14))
   ]
  },
  {
   "cell_type": "code",
<<<<<<< HEAD
<<<<<<< HEAD
<<<<<<< HEAD
<<<<<<< HEAD
=======
>>>>>>> e990756 (first notebook draft)
=======
>>>>>>> f79dd9a (update notebook)
   "execution_count": null,
   "metadata": {},
   "outputs": [],
=======
<<<<<<< HEAD
   "execution_count": 24,
=======
   "execution_count": 13,
<<<<<<< HEAD
>>>>>>> e990756 (first notebook draft)
=======
=======
   "execution_count": 29,
>>>>>>> f33afd8 (update notebook)
>>>>>>> f79dd9a (update notebook)
   "metadata": {},
   "outputs": [
    {
     "data": {
      "text/plain": [
       "['m_persKey', 'm_persIndex']"
      ]
     },
<<<<<<< HEAD
<<<<<<< HEAD
     "execution_count": 24,
=======
     "execution_count": 13,
>>>>>>> e990756 (first notebook draft)
=======
     "execution_count": 29,
>>>>>>> f79dd9a (update notebook)
     "metadata": {},
     "output_type": "execute_result"
    }
   ],
<<<<<<< HEAD
>>>>>>> 861a44a (add draft text for ElementLinks)
=======
   "execution_count": null,
   "metadata": {},
   "outputs": [],
>>>>>>> feecd8a (Add PHYSLITE material (#14))
=======
>>>>>>> efe3b47 (first notebook draft)
>>>>>>> e990756 (first notebook draft)
   "source": [
    "events.Jets.btaggingLink.fields"
   ]
  },
  {
   "cell_type": "markdown",
   "metadata": {},
   "source": [
<<<<<<< HEAD
<<<<<<< HEAD
=======
>>>>>>> feecd8a (Add PHYSLITE material (#14))
    "### Naive Linking"
   ]
  },
  {
   "cell_type": "markdown",
   "metadata": {},
   "source": [
    "We're currently working with `coffea` and the `PHYSLITESchema` to enable automatic cross-reference (_ElementLinking_) between collections. However, in simple cases we can achieve the linking, without actually using the `ElementLinks`.\n",
<<<<<<< HEAD
    "\n",
    "When there is **one-to-one** correspondence between the objects of two collections, we can link those without the need to resolve the actual links. For our example, each object of the `Jets` collection is linked to one object of the `BTagging_AntiKt4EMPFlow` collection.\n",
    "\n",
    "We will write a function to perform that linking. We will use the [DL1dv01](https://ftag.docs.cern.ch/algorithms/taggers/dl1/) flavour-tagging algorithm and information about its calibration can be found [here](https://ftag.docs.cern.ch/recommendations/algs/r22-preliminary/#working-point-definition-for-dl1dv01)."
=======
    "We're currently working with `coffea` and the `PHYSLITESchema` to enable proper cross-reference (ElementLinking) between collections. However, in simple cases we can achieve this linking, without actually using the `ElementLinks`.\n",
=======
>>>>>>> feecd8a (Add PHYSLITE material (#14))
    "\n",
    "When there is **one-to-one** correspondence between the objects of two collections, we can link those without the need to resolve the actual links. For our example, each object of the `Jets` collection is linked to one object of the `BTagging_AntiKt4EMPFlow` collection.\n",
    "\n",
<<<<<<< HEAD
    "We will write a function that is doing this linking. We will use the [`DL1dv01`](https://ftag.docs.cern.ch/algorithms/taggers/dl1/) flavour-tagging algorithm and information about its calibration can be found [here](https://ftag.docs.cern.ch/recommendations/algs/r22-preliminary/#working-point-definition-for-dl1dv01)."
>>>>>>> 861a44a (add draft text for ElementLinks)
=======
    "We will write a function to perform that linking. We will use the [DL1dv01](https://ftag.docs.cern.ch/algorithms/taggers/dl1/) flavour-tagging algorithm and information about its calibration can be found [here](https://ftag.docs.cern.ch/recommendations/algs/r22-preliminary/#working-point-definition-for-dl1dv01)."
>>>>>>> feecd8a (Add PHYSLITE material (#14))
   ]
  },
  {
   "cell_type": "code",
<<<<<<< HEAD
<<<<<<< HEAD
<<<<<<< HEAD
<<<<<<< HEAD
   "execution_count": null,
=======
   "execution_count": 25,
>>>>>>> 861a44a (add draft text for ElementLinks)
=======
   "execution_count": null,
>>>>>>> feecd8a (Add PHYSLITE material (#14))
=======
=======
>>>>>>> f79dd9a (update notebook)
   "execution_count": null,
=======
   "execution_count": 14,
>>>>>>> efe3b47 (first notebook draft)
<<<<<<< HEAD
>>>>>>> e990756 (first notebook draft)
=======
=======
   "execution_count": 30,
>>>>>>> f33afd8 (update notebook)
>>>>>>> f79dd9a (update notebook)
   "metadata": {},
   "outputs": [],
   "source": [
    "def calculate_jets_DL1dv01(events):\n",
    "    \n",
    "    BTagging = events.BTagging_AntiKt4EMPFlow\n",
    "    \n",
    "    f_c = 0.018\n",
    "    DL1dv01 = BTagging.DL1dv01_pb/(f_c*BTagging.DL1dv01_pc + (1-f_c)*BTagging.DL1dv01_pu)\n",
    "    DL1dv01 = np.log(DL1dv01)\n",
    "\n",
    "    return DL1dv01"
   ]
  },
  {
<<<<<<< HEAD
<<<<<<< HEAD
   "cell_type": "markdown",
<<<<<<< HEAD
   "metadata": {},
=======
   "cell_type": "code",
   "execution_count": 28,
   "metadata": {},
   "outputs": [
    {
     "data": {
      "text/plain": [
       "['pt', '_eventindex', 'eta', 'phi', 'm', 'btaggingLink', 'DL1dv01']"
      ]
     },
     "execution_count": 28,
     "metadata": {},
     "output_type": "execute_result"
    }
   ],
>>>>>>> 861a44a (add draft text for ElementLinks)
=======
   "cell_type": "markdown",
   "metadata": {},
>>>>>>> feecd8a (Add PHYSLITE material (#14))
   "source": [
    "We will use the above function to assign a new variable to the `Jets` collection. One can assign new variables to the arrays, with some caveats:\n",
    "\n",
    "* Assignment must use `events[\"path\", \"to\", \"name\"] = value`.\n",
    "* Assignment to a sliced events won't be accessible from the original variable."
   ]
  },
  {
   "cell_type": "code",
   "execution_count": null,
   "metadata": {},
   "outputs": [],
   "source": [
=======
   "metadata": {},
   "source": [
    "We will use the above function to assign a new variable to the `Jets` collection. One can assign new variables to the arrays, with some caveats:\n",
    "\n",
    "* Assignment must use `events[\"path\", \"to\", \"name\"] = value`.\n",
    "* Assignment to a sliced events won't be accessible from the original variable."
   ]
  },
  {
   "cell_type": "code",
   "execution_count": 31,
   "metadata": {},
   "outputs": [
    {
     "data": {
      "text/plain": [
       "['pt', '_eventindex', 'eta', 'phi', 'm', 'btaggingLink', 'DL1dv01']"
      ]
     },
     "execution_count": 31,
     "metadata": {},
     "output_type": "execute_result"
    }
   ],
   "source": [
>>>>>>> efe3b47 (first notebook draft)
    "# assign new variable to the collection\n",
    "events['Jets', 'DL1dv01'] = calculate_jets_DL1dv01(events)\n",
    "\n",
    "events.Jets.fields"
   ]
  },
  {
<<<<<<< HEAD
<<<<<<< HEAD
   "cell_type": "markdown",
<<<<<<< HEAD
   "metadata": {},
   "source": [
    "Let's finally use the new variable to make a selection. We will plot the leading jet transverse momentum ($p_T$) for events that have at least one b-tagged jet at the 77% efficiency working point."
   ]
  },
  {
   "cell_type": "code",
   "execution_count": null,
   "metadata": {},
   "outputs": [],
   "source": [
=======
   "metadata": {},
   "source": [
    "Let's finally use the new variable to make a selection. We will plot the leading jet transverse momentum ($p_T$) for events that have at least one b-tagged jet at the 77% efficiency working point."
   ]
  },
  {
   "cell_type": "code",
   "execution_count": 32,
   "metadata": {},
   "outputs": [
    {
     "data": {
      "image/png": "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",
      "text/plain": [
       "<Figure size 640x480 with 1 Axes>"
      ]
     },
     "metadata": {},
     "output_type": "display_data"
    }
   ],
   "source": [
>>>>>>> efe3b47 (first notebook draft)
    "# for events at least one b-jets at 77% WP\n",
    "selection_1bjet = ak.sum(events.Jets.DL1dv01 > 2.456, axis=-1) > 0\n",
    "\n",
    "# plot the leading jet pt\n",
=======
   "cell_type": "code",
   "execution_count": 36,
=======
   "cell_type": "markdown",
>>>>>>> feecd8a (Add PHYSLITE material (#14))
   "metadata": {},
   "source": [
    "Let's finally use the new variable to make a selection. We will plot the leading jet transverse momentum ($p_T$) for events that have at least one b-tagged jet at the 77% efficiency working point."
   ]
  },
  {
   "cell_type": "code",
   "execution_count": null,
   "metadata": {},
   "outputs": [],
   "source": [
    "# for events at least one b-jets at 77% WP\n",
    "selection_1bjet = ak.sum(events.Jets.DL1dv01 > 2.456, axis=-1) > 0\n",
<<<<<<< HEAD
>>>>>>> 861a44a (add draft text for ElementLinks)
=======
    "\n",
    "# plot the leading jet pt\n",
>>>>>>> feecd8a (Add PHYSLITE material (#14))
    "plt.hist((events.Jets[selection_1bjet][:, 0].pt/1000).compute(), bins=50, range=(0, 500))\n",
    "plt.xlabel(r\"$p_T(j_0)$ [GeV]\")\n",
    "plt.ylabel(\"Events\")\n",
    "plt.show()"
   ]
  }
 ],
 "metadata": {
  "kernelspec": {
   "display_name": "coffea_latest",
   "language": "python",
   "name": "python3"
  },
  "language_info": {
   "codemirror_mode": {
    "name": "ipython",
    "version": 3
   },
   "file_extension": ".py",
   "mimetype": "text/x-python",
   "name": "python",
   "nbconvert_exporter": "python",
   "pygments_lexer": "ipython3",
   "version": "3.11.9"
  }
 },
 "nbformat": 4,
 "nbformat_minor": 2
}
